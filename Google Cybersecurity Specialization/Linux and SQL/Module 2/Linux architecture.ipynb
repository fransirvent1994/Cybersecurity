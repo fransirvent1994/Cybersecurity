{
 "cells": [
  {
   "cell_type": "markdown",
   "id": "78df0bea",
   "metadata": {},
   "source": [
    "<h1>\n",
    "    <b>\n",
    "        <u>\n",
    "            Linux Architecture explained"
   ]
  },
  {
   "cell_type": "markdown",
   "id": "e36c48e2",
   "metadata": {},
   "source": [
    "Understanding the Linux architecture is important for a security analyst. When you understand how a system is organized, it makes it easier to understand how it functions. In this reading, you’ll learn more about the individual components in the Linux architecture. A request to complete a task starts with the user and then flows through applications, the shell, the Filesystem Hierarchy Standard, the kernel, and the hardware."
   ]
  },
  {
   "cell_type": "markdown",
   "id": "da36ccba",
   "metadata": {},
   "source": [
    "<h2><b><u>User"
   ]
  },
  {
   "cell_type": "markdown",
   "id": "9687c517",
   "metadata": {},
   "source": [
    "The user is the person interacting with a computer. They initiate and manage computer tasks. Linux is a multi-user system, which means that multiple users can use the same resources at the same time."
   ]
  },
  {
   "cell_type": "markdown",
   "id": "f4a14f3a",
   "metadata": {},
   "source": [
    "\n",
    "<h2><b><u>Applications\n"
   ]
  },
  {
   "cell_type": "markdown",
   "id": "a3478f39",
   "metadata": {},
   "source": [
    "An application is a program that performs a specific task. There are many different applications on your computer. Some applications typically come pre-installed on your computer, such as calculators or calendars. Other applications might have to be installed, such as some web browsers or email clients. In Linux, you'll often use a package manager to install applications. A package manager is a tool that helps users install, manage, and remove packages or applications. A package is a piece of software that can be combined with other packages to form an application."
   ]
  },
  {
   "cell_type": "markdown",
   "id": "a9466cdc",
   "metadata": {},
   "source": [
    "<h2><b><u>Shell"
   ]
  },
  {
   "cell_type": "markdown",
   "id": "1e47a701",
   "metadata": {},
   "source": [
    "The shell is the command-line interpreter. Everything entered into the shell is text based. The shell allows users to give commands to the kernel and receive responses from it. You can think of the shell as a translator between you and your computer. The shell translates the commands you enter so that the computer can perform the tasks you want."
   ]
  },
  {
   "cell_type": "markdown",
   "id": "4d766537",
   "metadata": {},
   "source": [
    "<h2><b><u>Filesystem Hierarchy Standard (FHS)\n"
   ]
  },
  {
   "cell_type": "markdown",
   "id": "bee2d624",
   "metadata": {},
   "source": [
    "The Filesystem Hierarchy Standard (FHS) is the component of the Linux OS that organizes data. It specifies the location where data is stored in the operating system. "
   ]
  },
  {
   "cell_type": "markdown",
   "id": "a1cca39c",
   "metadata": {},
   "source": [
    "<b><u>A directory</b></u> is a file that organizes where other files are stored. Directories are sometimes called “folders,” and they can contain files or other directories. The FHS defines how directories, directory contents, and other storage is organized so the operating system knows where to find specific data. "
   ]
  },
  {
   "cell_type": "markdown",
   "id": "f7da1f52",
   "metadata": {},
   "source": [
    "<h2><b><u>Kernel"
   ]
  },
  {
   "cell_type": "markdown",
   "id": "868fac6f",
   "metadata": {},
   "source": [
    "The kernel is the component of the Linux OS that manages processes and memory. It communicates with the applications to route commands. The Linux kernel is unique to the Linux OS and is critical for allocating resources in the system. The kernel controls all major functions of the hardware, which can help get tasks expedited more efficiently."
   ]
  },
  {
   "cell_type": "markdown",
   "id": "e047a029",
   "metadata": {},
   "source": [
    "<h2><b><u>Hardware"
   ]
  },
  {
   "cell_type": "markdown",
   "id": "c30f0271",
   "metadata": {},
   "source": [
    "The hardware is the physical components of a computer. You might be familiar with some hardware components, such as hard drives or CPUs. Hardware is categorized as either peripheral or internal."
   ]
  },
  {
   "cell_type": "markdown",
   "id": "af1773f7",
   "metadata": {},
   "source": [
    "<h2><b><u>Peripheral devices"
   ]
  },
  {
   "cell_type": "markdown",
   "id": "60473dcd",
   "metadata": {},
   "source": [
    "Peripheral devices are hardware components that are attached and controlled by the computer system. They are not core components needed to run the computer system. Peripheral devices can be added or removed freely. Examples of peripheral devices include monitors, printers, the keyboard, and the mouse."
   ]
  },
  {
   "cell_type": "markdown",
   "id": "efb30f1f",
   "metadata": {},
   "source": [
    "<h2><b><u>Internal hardware</h2></b></u>\n",
    "Internal hardware are the components required to run the computer. Internal hardware includes a main circuit board and all components attached to it. This main circuit board is also called the motherboard. Internal hardware includes the following: \n",
    "<p>\n",
    "<li>The Central Processing Unit (CPU) is a computer’s main processor, which is used to perform general computing tasks on a computer. The CPU executes the instructions provided by programs, which enables these programs to run. \n",
    "<p>\n",
    "<li>Random Access Memory (RAM) is a hardware component used for short-term memory. It’s where data is stored temporarily as you perform tasks on your computer. For example, if you’re writing a report on your computer, the data needed for this is stored in RAM. After you’ve finished writing the report and closed down that program, this data is deleted from RAM. Information in RAM cannot be accessed once the computer has been turned off. The CPU takes the data from RAM to run programs. \n",
    "<p>\n",
    "<li>The hard drive is a hardware component used for long-term memory. It’s where programs and files are stored for the computer to access later. Information on the hard drive can be accessed even after a computer has been turned off and on again. A computer can have multiple hard drives."
   ]
  }
 ],
 "metadata": {
  "language_info": {
   "name": "python"
  }
 },
 "nbformat": 4,
 "nbformat_minor": 5
}
