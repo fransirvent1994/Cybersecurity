{
 "cells": [
  {
   "cell_type": "markdown",
   "metadata": {},
   "source": [
    "<h1>Create a cybersecurity portfolio\n"
   ]
  },
  {
   "cell_type": "markdown",
   "metadata": {},
   "source": [
    "<b><u>What is a portfolio, and why is it necessary?</b></u>\n",
    "<p>\n",
    "Cybersecurity professionals use portfolios to demonstrate their security education, skills, and knowledge. Professionals typically use portfolios when they apply for jobs to show potential employers that they are passionate about their work and can do the job they are applying for. Portfolios are more in depth than a resume, which is typically a one-to-two page summary of relevant education, work experience, and accomplishments. You will have the opportunity to develop a resume, and finalize your portfolio, in the last course of this program. \n",
    "\n",
    "<b>Options for creating your portfolio </b>\n",
    "<p>\n",
    "There are many ways to present a portfolio, including self-hosted and online options such as:\n",
    "\n",
    "<li>Documents folder\n",
    "\n",
    "<li>Google Drive or Dropbox™\n",
    "\n",
    "<li>Google Sites\n",
    "\n",
    "<li>Git repository</li>"
   ]
  },
  {
   "cell_type": "markdown",
   "metadata": {},
   "source": [
    "\n",
    "<h3><b><u>Option 1: Documents folder</h3></b></u>\n",
    "<p>\n",
    "Description: A documents folder is a folder created and saved to your computer’s hard drive. You manage the folder, subfolders, documents, and images within it. \n",
    "\n",
    "Document folders allow you to have direct access to your documentation. Ensuring that your professional documents, images, and other information are well organized can save you a lot of time when you’re ready to apply for jobs. For example, you may want to create a main folder titled something like “Professional documents.” Then, within your main folder, you could create subfolders with titles such as:\n",
    "<p>\n",
    "<li>Resume\n",
    "\n",
    "<li>Education\n",
    "\n",
    "<li>Portfolio documents\n",
    "\n",
    "<li>Cybersecurity tools\n",
    "\n",
    "<li>Programming </li>\n",
    "<p>\n",
    "Setup: Document folders can be created in multiple ways, depending on the type of computer you are using. If you’re unsure about how to create a folder on your device, you can search the internet for instructional videos or documents related to the type of computer you use."
   ]
  },
  {
   "cell_type": "markdown",
   "metadata": {},
   "source": [
    "<h3><b><u>Option 2: Google Drive or Dropbox</h3></b></u>\n",
    "<p>\n",
    "Description: Google Drive and Dropbox offer similar features that allow you to store your professional documentation on a cloud platform. Both options also have file-sharing features, so you can easily share your portfolio documents with potential employers. Any additions or changes you make to a document within that folder will be updated automatically for anyone with access to your portfolio.\n",
    "<p>\n",
    "Similar to a documents folder, keeping your Google Drive or Dropbox-based portfolio well organized will be helpful as you begin or progress through your career.\n",
    "<p>\n",
    "Setup: To learn how to upload and share files on these applications, visit the Google Drive and Dropbox websites for more information.  "
   ]
  },
  {
   "cell_type": "markdown",
   "metadata": {},
   "source": [
    "<h3><b><u>Option 3: Google Sites</h3></b></u>\n",
    "<p>\n",
    "Description: Google Sites and similar website hosting options have a variety of easy-to-use features to help you present your portfolio items, including customizable layouts, responsive webpages, embedded content capabilities, and web publishing.\n",
    "<p>\n",
    "Responsive webpages automatically adjust their content to fit a variety of devices and screen sizes. This is helpful because potential employers can review your content using any device and your media will display just as you intend. When you’re ready, you can publish your website and receive a unique URL. You can add this link to your resume so hiring managers can easily access your work.\n",
    "<p>\n",
    "Setup: To learn how to create a website in Google Sites, visit the Google Sites website.  "
   ]
  },
  {
   "cell_type": "markdown",
   "metadata": {},
   "source": [
    "<h3><b><u>Option 4: Git repository</h3></b></u>\n",
    "<p>\n",
    "Description: A Git repository is a folder within a project. In this instance, the project is your portfolio, and you can use your repository to store the documents, labs, and screenshots you complete during each course of the certificate program. There are several Git repository sites you can use, including:\n",
    "\n",
    "<li>GitLab\n",
    "\n",
    "<li>Bitbucket™\n",
    "\n",
    "<li>GitHub</li>\n",
    "<p>\n",
    "Each Git repository allows you to showcase your skills and knowledge in a customizable space. To create an online project portfolio on any of the repositories listed, you need to use a version of Markdown.  "
   ]
  },
  {
   "cell_type": "markdown",
   "metadata": {},
   "source": [
    "<h3><b><u>Portfolio projects</h3></b></u>\n",
    "<p>\n",
    "As previously mentioned, you will have multiple opportunities throughout the certificate program to develop items to include in your portfolio. These opportunities include:\n",
    "<p>\n",
    "\n",
    "<li>Drafting a professional statement\n",
    "\n",
    "<li>Conducting a security audit\n",
    "\n",
    "<li>Analyzing network structure and security\n",
    "\n",
    "<li>Using Linux commands to manage file permissions\n",
    "\n",
    "<li>Applying filters to SQL queries\n",
    "\n",
    "<li>Identifying vulnerabilities for a small business\n",
    "\n",
    "<li>Documenting incidents with an incident handler’s journal \n",
    "\n",
    "<li>Importing and parsing a text file in a security-related scenario\n",
    "\n",
    "<li>Creating or revising a resume</li>\n",
    "<p>\n",
    "Note: Do not include any private, copyrighted, or proprietary documents in your portfolio. Also, if you use one of the sites described in this reading, keep your site set to “private” until it is finalized."
   ]
  }
 ],
 "metadata": {
  "language_info": {
   "name": "python"
  }
 },
 "nbformat": 4,
 "nbformat_minor": 2
}
