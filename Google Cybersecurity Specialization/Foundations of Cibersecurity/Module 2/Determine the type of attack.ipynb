{
 "cells": [
  {
   "cell_type": "markdown",
   "metadata": {},
   "source": [
    "<h1><u><b>Determine the type of attack"
   ]
  },
  {
   "cell_type": "markdown",
   "metadata": {},
   "source": [
    "<h2><b><u>Attack types"
   ]
  },
  {
   "cell_type": "markdown",
   "metadata": {},
   "source": [
    "<h3><b><u>Password attack</h3></b></u>\n",
    "A password attack is an attempt to access password-secured devices, systems, networks, or data. Some forms of password attacks that you’ll learn about later in the certificate program are:  \n",
    "\n",
    "<li>Brute force\n",
    "\n",
    "<li>Rainbow table\n",
    "\n",
    "Password attacks fall under the communication and network security domain. "
   ]
  },
  {
   "cell_type": "markdown",
   "metadata": {},
   "source": [
    "<h3><u><b>Social engineering attack"
   ]
  },
  {
   "cell_type": "markdown",
   "metadata": {},
   "source": [
    "Social engineering is a manipulation technique that exploits human error to gain private information, access, or valuables. Some forms of social engineering attacks that you will continue to learn about throughout the program are: \n",
    "\n",
    "<li>Phishing</li>\n",
    "\n",
    "<li>Smishing</li>\n",
    "\n",
    "<li>Vishing</li>\n",
    "\n",
    "<li>Spear phishing</li>\n",
    "\n",
    "<li>Whaling</li>\n",
    "\n",
    "<li>Social media phishing</li>\n",
    "\n",
    "<li>Business Email Compromise (BEC)</li>\n",
    "\n",
    "<li>Watering hole attack</li>\n",
    "\n",
    "<li>USB (Universal Serial Bus) baiting</li>\n",
    "\n",
    "<li>Physical social engineering </li>\n",
    "\n",
    "Social engineering attacks are related to the security and risk management domain."
   ]
  },
  {
   "cell_type": "markdown",
   "metadata": {},
   "source": [
    "<h3><u><b>Physical attack\n"
   ]
  },
  {
   "cell_type": "markdown",
   "metadata": {},
   "source": [
    "A physical attack is a security incident that affects not only digital but also physical environments where the incident is deployed. Some forms of physical attacks are:\n",
    "\n",
    "<li>Malicious USB cable\n",
    "\n",
    "<li>Malicious flash drive\n",
    "\n",
    "<li>Card cloning and skimming</li>\n",
    "\n",
    "<p>Physical attacks fall under the asset security domain. "
   ]
  },
  {
   "cell_type": "markdown",
   "metadata": {},
   "source": [
    "<h3><u><b>Adversarial artificial intelligence\n"
   ]
  },
  {
   "cell_type": "markdown",
   "metadata": {},
   "source": [
    "Adversarial artificial intelligence is a technique that manipulates <a href=\"https://www.nccoe.nist.gov/ai/adversarial-machine-learning\"> artificial intelligence and machine learning </a> technology to conduct attacks more efficiently. Adversarial artificial intelligence falls under both the communication and network security and the identity and access management domains."
   ]
  },
  {
   "cell_type": "markdown",
   "metadata": {},
   "source": [
    "<h3><b><u>Supply-chain attack\n"
   ]
  },
  {
   "cell_type": "markdown",
   "metadata": {},
   "source": [
    "A supply-chain attack targets systems, applications, hardware, and/or software to locate a vulnerability where malware can be deployed. Because every item sold undergoes a process that involves third parties, this means that the security breach can occur at any point in the supply chain. These attacks are costly because they can affect multiple organizations and the individuals who work for them. Supply-chain attacks can fall under several domains, including but not limited to the security and risk management, security architecture and engineering, and security operations domains.\n",
    "\n"
   ]
  },
  {
   "cell_type": "markdown",
   "metadata": {},
   "source": [
    "<h3><u><b>Cryptographic attack\n"
   ]
  },
  {
   "cell_type": "markdown",
   "metadata": {},
   "source": [
    "A cryptographic attack affects secure forms of communication between a sender and intended recipient. Some forms of cryptographic attacks are: \n",
    "\n",
    "<li>Birthday\n",
    "\n",
    "<li>Collision\n",
    "\n",
    "<li>Downgrade</li>\n",
    "\n",
    "<p>Cryptographic attacks fall under the communication and network security domain. "
   ]
  }
 ],
 "metadata": {
  "language_info": {
   "name": "python"
  }
 },
 "nbformat": 4,
 "nbformat_minor": 2
}
