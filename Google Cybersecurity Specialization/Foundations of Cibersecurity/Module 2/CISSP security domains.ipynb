{
 "cells": [
  {
   "cell_type": "markdown",
   "metadata": {},
   "source": [
    "<h1><b><u>CISSP Security domains"
   ]
  },
  {
   "cell_type": "markdown",
   "metadata": {},
   "source": [
    "<li>1. Security and Risk Magement\n",
    "<li>2. Asset Security\n",
    "<li>3. Security Architecture and Engineering\n",
    "<li>4. Communications and Network Security\n",
    "<li>5. Identify and Access Management\n",
    "<li>6. Security Assessment and Testing\n",
    "<li>7. Security Operations\n",
    "<li>8. Software Development Security"
   ]
  },
  {
   "cell_type": "markdown",
   "metadata": {},
   "source": [
    "<h2><b><u>Security and Risk Magement</h2></b></u>\n",
    "<p>Defines security goals and objectives, risk mitigation, compliance, bussiness continuity and the law."
   ]
  },
  {
   "cell_type": "markdown",
   "metadata": {},
   "source": [
    "<h2><b><u>Asset Security</h2></b></u>\n",
    "<p> Secures digitial and physical assets. It´s also related to the storage, maintenance, retention and destruction of data.\n"
   ]
  },
  {
   "cell_type": "markdown",
   "metadata": {},
   "source": [
    "<h2><b><u>Security Architecture and Engineering</h2></b></u>\n",
    "<p> Optimizes data security by ensuring effective tools, systems and processes are in place."
   ]
  },
  {
   "cell_type": "markdown",
   "metadata": {},
   "source": [
    "<h2><b><u>Communications and Network Security</h2></b></u>\n",
    "<p>Manage and secure physical networks and wireless communications."
   ]
  },
  {
   "cell_type": "markdown",
   "metadata": {},
   "source": [
    "<h2><b><u>Identify and access management</h2></b></u>\n",
    "<p>Keeps data secure, by ensuring users follow established policies to control and manage physical assets, like office spaces, and logical assets, such as networks and applications."
   ]
  },
  {
   "cell_type": "markdown",
   "metadata": {},
   "source": [
    "<h2><b><u>Security Assessment and Testing</h2></b></u>\n",
    "<p> Conducting security control testing, collecting and analyzing data, and conducting security audits to monitor for risks, threats and vulnerabilites."
   ]
  },
  {
   "cell_type": "markdown",
   "metadata": {},
   "source": [
    "<h2><b><u>Security Operations</h2></b></u>\n",
    "<p> Conducting investigations and implementing preventative measures."
   ]
  },
  {
   "cell_type": "markdown",
   "metadata": {},
   "source": [
    "<h2><b><u>Software Development Security</h2></b></u>\n",
    "<p>Uses secure coding practices, which are a set of recommended guidelines that are used to create secure applications and services."
   ]
  }
 ],
 "metadata": {
  "language_info": {
   "name": "python"
  }
 },
 "nbformat": 4,
 "nbformat_minor": 2
}
