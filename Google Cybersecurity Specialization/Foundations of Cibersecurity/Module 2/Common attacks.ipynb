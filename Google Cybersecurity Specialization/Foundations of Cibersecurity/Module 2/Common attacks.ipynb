{
 "cells": [
  {
   "cell_type": "markdown",
   "metadata": {},
   "source": [
    "<h1><b><u>Common attacks and their effectiveness\n"
   ]
  },
  {
   "cell_type": "markdown",
   "metadata": {},
   "source": [
    "Previously, you learned about past and present attacks that helped shape the cybersecurity industry. These included the LoveLetter attack, also called the ILOVEYOU virus, and the Morris worm. One outcome was the establishment of response teams, which are now commonly referred to as computer security incident response teams (CSIRTs). In this reading, you will learn more about common methods of attack. Becoming familiar with different attack methods, and the evolving tactics and techniques threat actors use, will help you better protect organizations and people."
   ]
  },
  {
   "cell_type": "markdown",
   "metadata": {},
   "source": [
    "<h2><b><u>Phishing"
   ]
  },
  {
   "cell_type": "markdown",
   "metadata": {},
   "source": [
    "Phishing is the use of digital communications to trick people into revealing sensitive data or deploying malicious software. \n",
    "\n",
    "Some of the most common types of phishing attacks today include: \n",
    "\n",
    "<li>Business Email Compromise (BEC): A threat actor sends an email message that seems to be from a known source to make a seemingly legitimate request for information, in order to obtain a financial advantage.</li>\n",
    "\n",
    "<li>Spear phishing: A malicious email attack that targets a specific user or group of users. The email seems to originate from a trusted source.</li>\n",
    "\n",
    "<li>Whaling: A form of spear phishing. Threat actors target company executives to gain access to sensitive data.</li>\n",
    "\n",
    "<li>Vishing: The exploitation of electronic voice communication to obtain sensitive information or to impersonate a known source.</li>\n",
    "\n",
    "<li>Smishing: The use of text messages to trick users, in order to obtain sensitive information or to impersonate a known source.</li>"
   ]
  },
  {
   "cell_type": "markdown",
   "metadata": {},
   "source": [
    "<h2><b><u>Malware"
   ]
  },
  {
   "cell_type": "markdown",
   "metadata": {},
   "source": [
    "Malware is software designed to harm devices or networks. There are many types of malware. The primary purpose of malware is to obtain money, or in some cases, an intelligence advantage that can be used against a person, an organization, or a territory.  \n",
    "\n",
    "Some of the most common types of malware attacks today include: \n",
    "\n",
    "<li>Viruses: Malicious code written to interfere with computer operations and cause damage to data and software. A virus needs to be initiated by a user (i.e., a threat actor), who transmits the virus via a malicious attachment or file download. When someone opens the malicious attachment or download, the virus hides itself in other files in the now infected system. When the infected files are opened, it allows the virus to insert its own code to damage and/or destroy data in the system.</li>\n",
    "\n",
    "<li>Worms: Malware that can duplicate and spread itself across systems on its own. In contrast to a virus, a worm does not need to be downloaded by a user. Instead, it self-replicates and spreads from an already infected computer to other devices on the same network.</li>\n",
    "\n",
    "<li>Ransomware: A malicious attack where threat actors encrypt an organization's data and demand payment to restore access. </li>\n",
    "\n",
    "<li>Spyware: Malware that’s used to gather and sell information without consent. Spyware can be used to access devices. This allows threat actors to collect personal data, such as private emails, texts, voice and image recordings, and locations.</li>"
   ]
  },
  {
   "cell_type": "markdown",
   "metadata": {},
   "source": [
    "<h2><b><u>Social Engineering "
   ]
  },
  {
   "cell_type": "markdown",
   "metadata": {},
   "source": [
    "Social engineering is a manipulation technique that exploits human error to gain private information, access, or valuables. Human error is usually a result of trusting someone without question. It’s the mission of a threat actor, acting as a social engineer, to create an environment of false trust and lies to exploit as many people as possible. \n",
    "\n",
    "Some of the most common types of social engineering attacks today include:\n",
    "\n",
    "<li>Social media phishing: A threat actor collects detailed information about their target from social media sites. Then, they initiate an attack.</li>\n",
    "\n",
    "<li>Watering hole attack: A threat actor attacks a website frequently visited by a specific group of users.</li>\n",
    "\n",
    "<li>USB baiting: A threat actor strategically leaves a malware USB stick for an employee to find and install, to unknowingly infect a network. </li>\n",
    "\n",
    "<li>Physical social engineering: A threat actor impersonates an employee, customer, or vendor to obtain unauthorized access to a physical location.</li>"
   ]
  },
  {
   "cell_type": "markdown",
   "metadata": {},
   "source": [
    "<h2><b><u>Social engineering principles"
   ]
  },
  {
   "cell_type": "markdown",
   "metadata": {},
   "source": [
    "Social engineering is incredibly effective. This is because people are generally trusting and conditioned to respect authority. The number of social engineering attacks is increasing with every new social media application that allows public access to people's data. Although sharing personal data—such as your location or photos—can be convenient, it’s also a risk.\n",
    "\n",
    "Reasons why social engineering attacks are effective include:\n",
    "\n",
    "<li>Authority: Threat actors impersonate individuals with power. This is because people, in general, have been conditioned to respect and follow authority figures. </li>\n",
    "\n",
    "<li>Intimidation: Threat actors use bullying tactics. This includes persuading and intimidating victims into doing what they’re told. </li>\n",
    "\n",
    "<li>Consensus/Social proof: Because people sometimes do things that they believe many others are doing, threat actors use others’ trust to pretend they are legitimate. For example, a threat actor might try to gain access to private data by telling an employee that other people at the company have given them access to that data in the past. </li>\n",
    "\n",
    "<li>Scarcity: A tactic used to imply that goods or services are in limited supply. </li>\n",
    "\n",
    "<li>Familiarity: Threat actors establish a fake emotional connection with users that can be exploited.  </li>\n",
    "\n",
    "<li>Trust: Threat actors establish an emotional relationship with users that can be exploited over time. They use this relationship to develop trust and gain personal information.</li>\n",
    "\n",
    "<li>Urgency: A threat actor persuades others to respond quickly and without questioning.</li>"
   ]
  },
  {
   "cell_type": "markdown",
   "metadata": {},
   "source": []
  }
 ],
 "metadata": {
  "language_info": {
   "name": "python"
  }
 },
 "nbformat": 4,
 "nbformat_minor": 2
}
