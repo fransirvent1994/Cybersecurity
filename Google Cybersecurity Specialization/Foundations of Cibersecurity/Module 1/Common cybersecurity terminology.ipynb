{
 "cells": [
  {
   "cell_type": "markdown",
   "metadata": {},
   "source": [
    "<h1><b><u>Common cybersecurity terminology"
   ]
  },
  {
   "cell_type": "markdown",
   "metadata": {},
   "source": [
    "As you’ve learned, cybersecurity (also known as security) is the practice of ensuring confidentiality, integrity, and availability of information by protecting networks, devices, people, and data from unauthorized access or criminal exploitation. In this reading, you’ll be introduced to some key terms used in the cybersecurity profession. Then, you’ll be provided with a resource that’s useful for staying informed about changes to cybersecurity terminology."
   ]
  },
  {
   "cell_type": "markdown",
   "metadata": {},
   "source": [
    "<h2><b>Key cybersecurity terms and concepts"
   ]
  },
  {
   "cell_type": "markdown",
   "metadata": {},
   "source": [
    "There are many terms and concepts that are important for security professionals to know. Being familiar with them can help you better identify the threats that can harm organizations and people alike. A security analyst or cybersecurity analyst focuses on monitoring networks for breaches. They also help develop strategies to secure an organization and research information technology (IT) security trends to remain alert and informed about potential threats. Additionally, an analyst works to prevent incidents. In order for analysts to effectively do these types of tasks, they need to develop knowledge of the following key concepts. "
   ]
  },
  {
   "cell_type": "markdown",
   "metadata": {},
   "source": [
    "<li><b><u>Compliance</b></u> is the process of adhering to internal standards and external regulations and enables organizations to avoid fines and security breaches.</li>\n",
    "\n",
    "<li><b><u>Security frameworks</b></u> are guidelines used for building plans to help mitigate risks and threats to data and privacy.</li>\n",
    "\n",
    "<li><b><u>Security controls</b></u> are safeguards designed to reduce specific security risks. They are used with security frameworks to establish a strong security posture.</li>\n",
    "\n",
    "<li><b><u>Security posture</b></u> is an organization’s ability to manage its defense of critical assets and data and react to change. A strong security posture leads to lower risk for the organization.</li>\n",
    "\n",
    "<li><b><u>A threat actor</b></u>, or malicious attacker, is any person or group who presents a security risk. This risk can relate to computers, applications, networks, and data.</li>\n",
    "\n",
    "<li><b><u>An internal threat</b></u> can be a current or former employee, an external vendor, or a trusted partner who poses a security risk. At times, an internal threat is accidental. For example, an employee who accidentally clicks on a malicious email link would be considered an accidental threat. Other times, the internal threat actor intentionally engages in risky activities, such as unauthorized data access.</li>\n",
    "\n",
    "<li><b><u>Network security</b></u> is the practice of keeping an organization's network infrastructure secure from unauthorized access. This includes data, services, systems, and devices that are stored in an organization’s network.</li>\n",
    "\n",
    "<li><b><u>Cloud security</b></u> is the process of ensuring that assets stored in the cloud are properly configured, or set up correctly, and access to those assets is limited to authorized users. The cloud is a network made up of a collection of servers or computers that store resources and data in remote physical locations known as data centers that can be accessed via the internet. Cloud security is a growing subfield of cybersecurity that specifically focuses on the protection of data, applications, and infrastructure in the cloud.</li>\n",
    "\n",
    "<li><b><u>Programming</b></u> is a process that can be used to create a specific set of instructions for a computer to execute tasks. These tasks can include:</li>\n",
    "<ol>1. Automation of repetitive tasks (e.g., searching a list of malicious domains)</ol>\n",
    "<ul>2. Reviewing web traffic </ul>\n",
    "<ul>3. Alerting suspicious activity</ul>"
   ]
  }
 ],
 "metadata": {
  "language_info": {
   "name": "python"
  }
 },
 "nbformat": 4,
 "nbformat_minor": 2
}
