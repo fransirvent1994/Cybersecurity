{
 "cells": [
  {
   "cell_type": "markdown",
   "metadata": {},
   "source": [
    "<h1><b><u>CIA TRIAD"
   ]
  },
  {
   "cell_type": "markdown",
   "metadata": {},
   "source": [
    "<h2>Confidentiality</h2>\n",
    "\n",
    "<p>\n",
    "Only authorized users can access specific assets or data."
   ]
  },
  {
   "cell_type": "markdown",
   "metadata": {},
   "source": [
    "<h2>Integrity</h2>\n",
    "<p>\n",
    "The data is correct, authentic, and reliable"
   ]
  },
  {
   "cell_type": "markdown",
   "metadata": {},
   "source": [
    "<h2>Availability</h2>\n",
    "<p>\n",
    "Data is accessible to those who are authorized to access it"
   ]
  }
 ],
 "metadata": {
  "language_info": {
   "name": "python"
  }
 },
 "nbformat": 4,
 "nbformat_minor": 2
}
