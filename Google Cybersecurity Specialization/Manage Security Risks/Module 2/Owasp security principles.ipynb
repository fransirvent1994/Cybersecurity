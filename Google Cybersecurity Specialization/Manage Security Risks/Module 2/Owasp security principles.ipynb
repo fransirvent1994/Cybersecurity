{
 "cells": [
  {
   "cell_type": "markdown",
   "metadata": {},
   "source": [
    "<h1><b><u>OWASP security principles"
   ]
  },
  {
   "cell_type": "markdown",
   "metadata": {},
   "source": [
    "OWASP = Open Web Applications Security Project"
   ]
  },
  {
   "cell_type": "markdown",
   "metadata": {},
   "source": [
    "<h2><b><u>Security principles</h2></b></u>\n",
    "In the workplace, security principles are embedded in your daily tasks. Whether you are analyzing logs, monitoring a security information and event management (SIEM) dashboard, or using a \n",
    "<a href=\"https://csrc.nist.gov/glossary/term/vulnerability_scanner\">vulnerability scanner</a>, you will use these principles in some way. \n",
    "<p>\n",
    "\n",
    "Previously, you were introduced to several OWASP security principles. These included:\n",
    "\n",
    "- Minimize attack surface area: Attack surface refers to all the potential vulnerabilities a threat actor could exploit.\n",
    "\n",
    "- Principle of least privilege: Users have the least amount of access required to perform their everyday tasks.\n",
    "\n",
    "- Defense in depth: Organizations should have varying security controls that mitigate risks and threats.\n",
    "\n",
    "- Separation of duties: Critical actions should rely on multiple people, each of whom follow the principle of least privilege. \n",
    "\n",
    "- Keep security simple: Avoid unnecessarily complicated solutions. Complexity makes security difficult. \n",
    "\n",
    "- Fix security issues correctly: When security incidents occur, identify the root cause, contain the impact, identify vulnerabilities, and conduct tests to ensure that remediation is successful."
   ]
  },
  {
   "cell_type": "markdown",
   "metadata": {},
   "source": [
    "<h2><b><u>Additional OWASP security principles</h2></b></u>\n",
    "Next, you’ll learn about four additional OWASP security principles that cybersecurity analysts and their teams use to keep organizational operations and people safe.\n",
    "\n",
    "<h3><b><u>Establish secure defaults</h3></b></u>\n",
    "This principle means that the optimal security state of an application is also its default state for users; it should take extra work to make the application insecure. \n",
    "\n",
    "<h3><b><u>Fail securely</h3></b></u>\n",
    "Fail securely means that when a control fails or stops, it should do so by defaulting to its most secure option. For example, when a firewall fails it should simply close all connections and block all new ones, rather than start accepting everything.\n",
    "\n",
    "<h3><b><u>Don’t trust services</h3></b></u>\n",
    "Many organizations work with third-party partners. These outside partners often have different security policies than the organization does. And the organization shouldn’t explicitly trust that their partners’ systems are secure. For example, if a third-party vendor tracks reward points for airline customers, the airline should ensure that the balance is accurate before sharing that information with their customers.\n",
    "\n",
    "<h3><b><u>Avoid security by obscurity</h3></b></u>\n",
    "The security of key systems should not rely on keeping details hidden. Consider the following example from OWASP (2016): \n",
    "OWASP Mobile Top 10\n",
    "\n",
    "The security of an application should not rely on keeping the source code secret. Its security should rely upon many other factors, including reasonable password policies, defense in depth, business transaction limits, solid network architecture, and fraud and audit controls."
   ]
  }
 ],
 "metadata": {
  "language_info": {
   "name": "python"
  }
 },
 "nbformat": 4,
 "nbformat_minor": 2
}
