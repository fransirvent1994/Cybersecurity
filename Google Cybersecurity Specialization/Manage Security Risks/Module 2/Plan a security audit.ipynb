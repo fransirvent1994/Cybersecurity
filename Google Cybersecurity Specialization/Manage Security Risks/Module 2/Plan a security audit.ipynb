{
 "cells": [
  {
   "cell_type": "markdown",
   "metadata": {},
   "source": [
    "<h2><b><u>Security audit</h2></b></u>\n",
    "<p>\n",
    "A review of an organization´s security controls, policies, and procedures against a set of expectations"
   ]
  },
  {
   "cell_type": "markdown",
   "metadata": {},
   "source": [
    "<h2><b><u>Purposes of internal security audits</h2></b></u>"
   ]
  },
  {
   "cell_type": "markdown",
   "metadata": {},
   "source": [
    "- Identify organizational risk\n",
    "- Assess controls\n",
    "- Correct compliance issues"
   ]
  },
  {
   "cell_type": "markdown",
   "metadata": {},
   "source": [
    "<h2><b><u>Common elements of internal security audits</h2></b></u>"
   ]
  },
  {
   "cell_type": "markdown",
   "metadata": {},
   "source": [
    "- Establishing the scope and goals\n",
    "- Conducting a risk \n",
    "- Completing a controls assessment\n",
    "- Assessing compliance\n",
    "- Communicating results"
   ]
  },
  {
   "cell_type": "markdown",
   "metadata": {},
   "source": [
    "<h2><b><u>Complete a security audit</h2></b></u>"
   ]
  },
  {
   "cell_type": "markdown",
   "metadata": {},
   "source": [
    "<h3><b><u>Audit questions</h3></b></u>\n",
    "\n",
    "- What is the audit meant to achieve?\n",
    "- Which assets are most at risk?\n",
    "- Are current controls sufficient to protect those assets?\n",
    "- What controls and compliance regulations need to be implemented?"
   ]
  },
  {
   "cell_type": "markdown",
   "metadata": {},
   "source": [
    "<h2><b><u>Control categories</h2></b></u>\n",
    "<p>\n",
    "\n",
    "\n",
    "\n"
   ]
  },
  {
   "cell_type": "markdown",
   "metadata": {},
   "source": [
    "\n",
    "<h3><b><u>Administrative controls:</b></u></h3>\n",
    "<p>\n",
    "\n",
    "<b><u>Control name:</b></u>\n",
    "<p>\n",
    "Password policies\n",
    "<p>\n",
    "\n",
    "<b><u>Control type and explanation:</b></u> \n",
    "<p>\n",
    "Preventative: establish password strength rules to improve security/reduce likelihood of account compromise through brute force or dictionary attack techniques.\n",
    "<p>\n",
    "\n",
    "<b><u>Needs to be implemented:</b></u>\n",
    "<p>\n",
    "Yes\n",
    "<p>\n",
    "\n",
    "<b><u>Priority:</b></u>\n",
    "<p>\n",
    "High\n",
    "<p>\n"
   ]
  },
  {
   "cell_type": "markdown",
   "metadata": {},
   "source": [
    "<h3><b><u>Technical controls:</b></u></h3>\n",
    "<p>\n",
    "<b><u>Control name:</b></u>\n",
    "<p>\n",
    "\n",
    "1. Intrusion Detection System (IDS)\n",
    "<p>\n",
    "\n",
    "2. Encryption\n",
    "<p>\n",
    "\n",
    "<b><u>Control type and explanation:</b></u>\n",
    "<p>\n",
    "\n",
    "1. Detective: allows IT team to identify possible instrusions (i.e. anomalous traffic) quickly\n",
    "<p>\n",
    "\n",
    "2. Deterrent: makes confidential information/data more secure (i.e. website payment transactions)\n",
    "<p>\n",
    "\n",
    "<b><u>Needs to be implemented:</b></u>\n",
    "<p>\n",
    "\n",
    "Yes\n",
    "<p>\n",
    "\n",
    "<b><u>Priority:</b></u>\n",
    "<p>\n",
    "\n",
    "High\n",
    "<p>"
   ]
  },
  {
   "cell_type": "markdown",
   "metadata": {},
   "source": [
    "<h3><b><u>Physical controls:</b></u></h3>\n",
    "<p>\n",
    "<b><u>Control name:</b></u>\n",
    "<p>\n",
    "\n",
    "1. Closed-circuit television (CCTV) surveillance\n",
    "<p>\n",
    "\n",
    "2. Locks\n",
    "<p>\n",
    "\n",
    "<b><u>Control type and explanation:</b></u>\n",
    "<p>\n",
    "\n",
    "1. Preventative/Detective: can reduce risk of certain events: can be used after event for investigation.\n",
    "<p>\n",
    "\n",
    "2. Preventative: Physical and digital assets are more secure\n",
    "<p>\n",
    "\n",
    "<b><u>Needs to be implemented:</b></u>\n",
    "<p>\n",
    "\n",
    "Yes\n",
    "<p>\n",
    "\n",
    "<b><u>Priority:</b></u>\n",
    "<p>\n",
    "\n",
    "High\n",
    "<p>"
   ]
  },
  {
   "cell_type": "markdown",
   "metadata": {},
   "source": [
    "<h2><b><u>Stakeholder communication</h2></b></u>\n",
    "<p>\n",
    "\n",
    "- Summarizes scope and goals\n",
    "- Lists existing risks\n",
    "- Notes how quickly those risks need to be addressed\n",
    "- Identifies compliance regulations\n",
    "- Provides recommendations\n"
   ]
  }
 ],
 "metadata": {
  "language_info": {
   "name": "python"
  }
 },
 "nbformat": 4,
 "nbformat_minor": 2
}
