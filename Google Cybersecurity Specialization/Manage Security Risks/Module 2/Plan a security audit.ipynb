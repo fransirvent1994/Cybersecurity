{
 "cells": [
  {
   "cell_type": "markdown",
   "metadata": {},
   "source": [
    "<h2><b><u>Security audit</h2></b></u>\n",
    "<p>\n",
    "A review of an organization´s security controls, policies, and procedures against a set of expectations"
   ]
  },
  {
   "cell_type": "markdown",
   "metadata": {},
   "source": [
    "<h2><b><u>Purposes of internal security audits</h2></b></u>"
   ]
  },
  {
   "cell_type": "markdown",
   "metadata": {},
   "source": [
    "- Identify organizational risk\n",
    "- Assess controls\n",
    "- Correct compliance issues"
   ]
  },
  {
   "cell_type": "markdown",
   "metadata": {},
   "source": [
    "<h2><b><u>Common elements of internal security audits</h2></b></u>"
   ]
  },
  {
   "cell_type": "markdown",
   "metadata": {},
   "source": [
    "- Establishing the scope and goals\n",
    "- Conducting a risk \n",
    "- Completing a controls assessment\n",
    "- Assessing compliance\n",
    "- Communicating results"
   ]
  },
  {
   "cell_type": "markdown",
   "metadata": {},
   "source": [
    "<h2><b><u>Complete a security audit</h2></b></u>"
   ]
  },
  {
   "cell_type": "markdown",
   "metadata": {},
   "source": [
    "<h3><b><u>Audit questions</h3></b></u>\n",
    "\n",
    "- What is the audit meant to achieve?\n",
    "- Which assets are most at risk?\n",
    "- Are current controls sufficient to protect those assets?\n",
    "- What controls and compliance regulations need to be implemented?"
   ]
  },
  {
   "cell_type": "markdown",
   "metadata": {},
   "source": [
    "<h3><b><u>Control categories</h3></b></u>\n",
    "<p>\n",
    "\n",
    "- Administrative controls:\n",
    "<p>\n",
    "\n",
    "- Technical controls:\n",
    "<p>\n",
    "\n",
    "- Physical controls:\n",
    "<p>"
   ]
  }
 ],
 "metadata": {
  "language_info": {
   "name": "python"
  }
 },
 "nbformat": 4,
 "nbformat_minor": 2
}
