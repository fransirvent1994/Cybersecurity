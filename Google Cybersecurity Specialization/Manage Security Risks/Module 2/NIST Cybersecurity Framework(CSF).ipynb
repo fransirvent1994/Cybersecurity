{
 "cells": [
  {
   "cell_type": "markdown",
   "metadata": {},
   "source": [
    "<h1>NIST FRAMEWORK (CSF)"
   ]
  },
  {
   "cell_type": "markdown",
   "metadata": {},
   "source": [
    "The NIST Cybersecurity Framework is a voluntary framework that consists of standards, guidelines, and best practices to manage cybersecurity risk. In the latest version, CSF v2.0, a new 'Govern' function has been added, emphasizing the importance of strong cybersecurity governance. This framework is widely respected and essential for maintaining security regardless of the organization you work for.\n",
    "\n",
    "The CSF now consists of six important core functions: Govern, Identify, Protect, Detect, Respond, and Recover.\n",
    "\n",
    "CSF v2.0 also places greater emphasis on supply chain risk management."
   ]
  },
  {
   "cell_type": "markdown",
   "metadata": {},
   "source": [
    "<h2>NIST S.P. 800-53</h2>\n",
    "<p>\n",
    "\n",
    "A unified framework for protecting the security of information systems within the federal government."
   ]
  },
  {
   "cell_type": "markdown",
   "metadata": {},
   "source": [
    "<h2>Functions of NIST Framework"
   ]
  },
  {
   "cell_type": "markdown",
   "metadata": {},
   "source": [
    "<h3><b><u>Govern Function</h3></b></u>\n",
    "<p>\n",
    "A significant update in the latest version of the NIST Cybersecurity Framework is the inclusion of a new core function: Govern. This function emphasizes the importance of strong cybersecurity governance across all levels of the organization. It's about establishing and maintaining the structures and processes needed to effectively manage cybersecurity risk. This includes things like setting clear cybersecurity objectives, ensuring leadership commitment, developing and implementing a comprehensive risk management strategy, and continuously improving cybersecurity performance."
   ]
  },
  {
   "cell_type": "markdown",
   "metadata": {},
   "source": [
    "<h3><b><u>Identify</h3></b></u>\n",
    "<p>\n",
    "The management of cybersecurity risk and its effect on an organization´s people and assets"
   ]
  },
  {
   "cell_type": "markdown",
   "metadata": {},
   "source": [
    "<h3><b><u>Identify</h3></b></u>\n",
    "<p>\n",
    "The strategy used to protect an organization through the implementation of policies, procedures, training, and tools that help mitigate cybersecurity threats"
   ]
  },
  {
   "cell_type": "markdown",
   "metadata": {},
   "source": [
    "<h3><b><u>Detect</h3></b></u>\n",
    "<p>\n",
    "Identifying potential security incidents and improving monitoring capabilites to increase the speed and efficiency of detections."
   ]
  },
  {
   "cell_type": "markdown",
   "metadata": {},
   "source": [
    "<h3><b><u>Respond</h3></b></u>\n",
    "<p>\n",
    "Making sure that the proper procedures are used to contain, neutralize, and analyze security incidents, and implement improvements to the security process."
   ]
  },
  {
   "cell_type": "markdown",
   "metadata": {},
   "source": [
    "<h3><b><u>Recover</h3></b></u>\n",
    "<p>\n",
    "The process of returning affected systems back to normal operation."
   ]
  }
 ],
 "metadata": {
  "language_info": {
   "name": "python"
  }
 },
 "nbformat": 4,
 "nbformat_minor": 2
}
