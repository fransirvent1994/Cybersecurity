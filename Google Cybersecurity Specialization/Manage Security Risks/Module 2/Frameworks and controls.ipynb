{
 "cells": [
  {
   "cell_type": "markdown",
   "metadata": {},
   "source": [
    "<h1><b><u>Frameworks and controls"
   ]
  },
  {
   "cell_type": "markdown",
   "metadata": {},
   "source": [
    "<b><u>Security frameworks</b></u>\n",
    "<p>\n",
    "Guidelines used for building plans to help mitigate risk and threats to data and privacy"
   ]
  },
  {
   "cell_type": "markdown",
   "metadata": {},
   "source": [
    "<b><u>Controls</b></u>\n",
    "<p>\n",
    "Safeguards designed to reduce specific security risks"
   ]
  },
  {
   "cell_type": "markdown",
   "metadata": {},
   "source": [
    "<b><u>Encryption</b></u>\n",
    "<p>\n",
    "The process of converting data from a readable format to an encoded format"
   ]
  },
  {
   "cell_type": "markdown",
   "metadata": {},
   "source": [
    "<b><u>Authentication</b></u>\n",
    "<p>\n",
    "The process of verifying who someone or something is"
   ]
  },
  {
   "cell_type": "markdown",
   "metadata": {},
   "source": [
    "<b><u>Vishing</b></u>\n",
    "<p>\n",
    "The exploitation of electronic voice communication to obtain sensitive information or to impersonate a known source"
   ]
  },
  {
   "cell_type": "markdown",
   "metadata": {},
   "source": [
    "<b><u>Authoritation</b></u>\n",
    "<p>\n",
    "The concept of granting access to specific resources within a system"
   ]
  }
 ],
 "metadata": {
  "language_info": {
   "name": "python"
  }
 },
 "nbformat": 4,
 "nbformat_minor": 2
}
