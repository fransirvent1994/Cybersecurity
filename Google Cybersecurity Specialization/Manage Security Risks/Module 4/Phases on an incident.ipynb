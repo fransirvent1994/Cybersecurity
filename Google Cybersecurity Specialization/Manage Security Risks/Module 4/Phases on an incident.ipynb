{
 "cells": [
  {
   "cell_type": "markdown",
   "metadata": {},
   "source": [
    "<h1>Phases on an incident response"
   ]
  },
  {
   "cell_type": "markdown",
   "metadata": {},
   "source": [
    "<h2>Playbook"
   ]
  },
  {
   "cell_type": "markdown",
   "metadata": {},
   "source": [
    "A manual that provides details about any operational action. Essentially, a playbook provides a predefined and up-to-date list of steps to perform when responding to an incident.\n",
    "\n",
    "<p>\n",
    "Playbooks are accompanied by a strategy. The strategy outlines expectations of team members who are assigned a task, and some playbooks also list the individuals responsible. The outlined expectations are accompanied by a plan. The plan dictates how the specific task outlined in the playbook must be completed.\n",
    "\n",
    "Playbooks should be treated as living documents, which means that they are frequently updated by security team members to address industry changes and new threats. Playbooks are generally managed as a collaborative effort, since security team members have different levels of expertise.\n",
    "\n",
    "Updates are often made if:\n",
    "\n",
    "<li> A failure is identified, such as an oversight in the outlined policies and procedures, or in the playbook itself. \n",
    "\n",
    "<li> There is a change in industry standards, such as changes in laws or regulatory compliance.\n",
    "\n",
    "<li> The cybersecurity landscape changes due to evolving threat actor tactics and techniques."
   ]
  },
  {
   "cell_type": "markdown",
   "metadata": {},
   "source": [
    "<h2> Types of playbooks"
   ]
  },
  {
   "cell_type": "markdown",
   "metadata": {},
   "source": [
    "Playbooks sometimes cover specific incidents and vulnerabilities. These might include ransomware, vishing, business email compromise (BEC), and other attacks previously discussed. Incident and vulnerability response playbooks are very common, but they are not the only types of playbooks organizations develop. \n",
    "\n",
    "Each organization has a different set of playbook tools, methodologies, protocols, and procedures that they adhere to, and different individuals are involved at each step of the response process, depending on the country they are in. For example, incident notification requirements from government-imposed laws and regulations, along with compliance standards, affect the content in the playbooks. These requirements are subject to change based on where the incident originated and the type of data affected. "
   ]
  },
  {
   "cell_type": "markdown",
   "metadata": {},
   "source": [
    "<h2>Incident response"
   ]
  },
  {
   "cell_type": "markdown",
   "metadata": {},
   "source": [
    "An organization´s quick attempt to identify an attack, contain the damage, and correct the effects of a security breach.\n",
    "\n",
    "Incident and vulnerability response playbooks are commonly used by entry-level cybersecurity professionals. They are developed based on the goals outlined in an organization’s business continuity plan. A business continuity plan is an established path forward allowing a business to recover and continue to operate as normal, despite a disruption like a security breach.\n",
    "\n",
    "These two types of playbooks are similar in that they both contain predefined and up-to-date lists of steps to perform when responding to an incident. Following these steps is necessary to ensure that you, as a security professional, are adhering to legal and organizational standards and protocols. These playbooks also help minimize errors and ensure that important actions are performed within a specific timeframe.\n",
    "\n",
    "When an incident, threat, or vulnerability occurs or is identified, the level of risk to the organization depends on the potential damage to its assets. A basic formula for determining the level of risk is that risk equals the likelihood of a threat. For this reason, a sense of urgency is essential. Following the steps outlined in playbooks is also important if any forensic task is being carried out. Mishandling data can easily compromise forensic data, rendering it unusable. "
   ]
  },
  {
   "cell_type": "markdown",
   "metadata": {},
   "source": [
    "<h2>Incident response playbook phases</h2>\n",
    "<p>\n",
    "<li><u>Preparation</u>: \n",
    "<p>\n",
    "\n",
    "Before incidents occur, mitigate potential impacts on the organization by documenting, establishing staffing plans, and educating users.\n",
    "\n",
    "<p>\n",
    "<li> <u>Detection and analysis</u>: \n",
    "<p>\n",
    "\n",
    "Detect and analyze events by implementing defined processes and appropriate technology.\n",
    "\n",
    "<p>\n",
    "<li> <u>Containment</u>: \n",
    "<p>\n",
    "\n",
    "Prevent further damage and reduce immediate impact of incidents.\n",
    "\n",
    "<p>\n",
    "<li> <u>Eradication and recovery</u>: \n",
    "<p>\n",
    "\n",
    "Completely remove artifacts of the incident so that an organization can return to normal operations.\n",
    "\n",
    "<p>\n",
    "<li> <u>Post incident activity</u>: \n",
    "<p>\n",
    "\n",
    "Document the incident, inform organizational leadership, and apply lessons learned.\n",
    "\n",
    "<p>\n",
    "<li> <u>Coordination</u>: \n",
    "<p>\n",
    "\n",
    "Report incidents and share information throughout the response process, based on established standards.\n"
   ]
  },
  {
   "cell_type": "markdown",
   "metadata": {},
   "source": [
    "Playbooks can be used for:\n",
    "<li> Open attacks\n",
    "<li> Privacy incidents\n",
    "<li> Data leaks\n",
    "<li> Denial of service attacks\n",
    "<li> Service alerts\n",
    "<li> Others"
   ]
  }
 ],
 "metadata": {
  "language_info": {
   "name": "python"
  }
 },
 "nbformat": 4,
 "nbformat_minor": 2
}
