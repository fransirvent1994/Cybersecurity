{
 "cells": [
  {
   "cell_type": "markdown",
   "metadata": {},
   "source": [
    "<h1><b><u>Logs and SIEM tools"
   ]
  },
  {
   "cell_type": "markdown",
   "metadata": {},
   "source": [
    "<h2><b><u>Log</h2></b></u>\n",
    "A record of events that occur within an organization´s systems and networks"
   ]
  },
  {
   "cell_type": "markdown",
   "metadata": {},
   "source": [
    "<h2><b><u>Common log sources</h2></b></u>\n",
    "\n",
    "<p>\n",
    "\n",
    "<h4><u><b>\n",
    "\n",
    "- Firewall logs:\n",
    "\n",
    "</h4></u></b>\n",
    "\n",
    "<p>\n",
    "\n",
    "    A record of attempted or established connections for incoming traffic from the internet. It also includes outbound requests to the internet from within the network.\n",
    "\n",
    "<p>\n",
    "\n",
    "<h4><u><b>\n",
    "\n",
    "- Network logs:\n",
    "\n",
    "</h4></u></b>\n",
    "<p>\n",
    "\n",
    "    A network log is record of all computers and devices that enter and leave the network. It also records connections between devices and services on the network.\n",
    "\n",
    "<h4><u><b>\n",
    "<p>\n",
    "\n",
    "- Server logs:\n",
    "\n",
    "</h4></u></b>\n",
    "<p>\n",
    "\n",
    "    A record of events related to services, such as websites, emails, or file shares. It includes actions such as login, password, and username requests."
   ]
  },
  {
   "cell_type": "markdown",
   "metadata": {},
   "source": [
    "<h2><b><u>Security information and event management (SIEM)</h2></b></u>\n",
    "\n",
    "An application that collects and analyzes log data to monitor critical activities in an organization.\n"
   ]
  }
 ],
 "metadata": {
  "language_info": {
   "name": "python"
  }
 },
 "nbformat": 4,
 "nbformat_minor": 2
}
