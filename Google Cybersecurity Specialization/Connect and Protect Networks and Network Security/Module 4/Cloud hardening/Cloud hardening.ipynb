{
 "cells": [
  {
   "cell_type": "markdown",
   "id": "06ad68a0",
   "metadata": {},
   "source": [
    "<h1><b><u>Cloud hardening"
   ]
  },
  {
   "cell_type": "markdown",
   "id": "de170b2f",
   "metadata": {},
   "source": [
    "<h2><b>Cloud network"
   ]
  },
  {
   "cell_type": "markdown",
   "id": "d6030f8c",
   "metadata": {},
   "source": [
    "A collection of servers or computers that stores resources and data in remote data centers that can be accessed via the internet"
   ]
  }
 ],
 "metadata": {
  "language_info": {
   "name": "python"
  }
 },
 "nbformat": 4,
 "nbformat_minor": 5
}
