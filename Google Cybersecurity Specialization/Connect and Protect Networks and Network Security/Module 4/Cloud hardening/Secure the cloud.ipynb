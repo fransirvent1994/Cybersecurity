{
 "cells": [
  {
   "cell_type": "markdown",
   "id": "d254a5fd",
   "metadata": {},
   "source": [
    "<h1><b><u>Secure the cloud"
   ]
  },
  {
   "cell_type": "markdown",
   "id": "26daf8af",
   "metadata": {},
   "source": [
    "<h2><b>Cloud security considerations"
   ]
  },
  {
   "cell_type": "markdown",
   "id": "7cf32857",
   "metadata": {},
   "source": [
    "Many organizations choose to use cloud services because of the ease of deployment, speed of deployment, cost savings, and scalability of these options. Cloud computing presents unique security challenges that cybersecurity analysts need to be aware of. "
   ]
  },
  {
   "cell_type": "markdown",
   "id": "c2f95d3c",
   "metadata": {},
   "source": [
    "<h3><b>Identity access management\n"
   ]
  },
  {
   "cell_type": "markdown",
   "id": "4c0d6923",
   "metadata": {},
   "source": [
    "Identity access management (IAM) is a collection of processes and technologies that helps organizations manage digital identities in their environment. This service also authorizes how users can use different cloud resources. A common problem that organizations face when using the cloud is the loose configuration of cloud user roles. An improperly configured user role increases risk by allowing unauthorized users to have access to critical cloud operations. "
   ]
  },
  {
   "cell_type": "markdown",
   "id": "774dff76",
   "metadata": {},
   "source": [
    "<h3><b>Configuration\n"
   ]
  },
  {
   "cell_type": "markdown",
   "id": "4fc7c9e6",
   "metadata": {},
   "source": [
    "The expanding cloud ecosystem introduces significant complexity to network management. Each cloud service necessitates precise configuration to uphold security and compliance standards. This challenge intensifies during cloud migrations, where ensuring accurate configuration for every migrated process is critical. Neglect in this area can expose the network to vulnerabilities. Misconfigured cloud services are a frequent source of security breaches, underscoring the importance of meticulous attention to detail by network administrators and architects during the migration and ongoing management of cloud services."
   ]
  },
  {
   "cell_type": "markdown",
   "id": "bbc2a56c",
   "metadata": {},
   "source": [
    "<h3><b>Attack surface\n"
   ]
  },
  {
   "cell_type": "markdown",
   "id": "7e946b66",
   "metadata": {},
   "source": [
    "Cloud service providers (CSPs) offer numerous applications and services for organizations at a low cost. \n",
    "\n",
    "Every service or application on a network carries its own set of risks and vulnerabilities and increases an organization’s overall attack surface. An increased attack surface must be compensated for with increased security measures.\n",
    "\n",
    "Cloud networks that utilize many services introduce lots of entry points into an organization’s network. However, if the network is designed correctly, utilizing several services does not introduce more entry points into an organization’s network design. These entry points can be used to introduce malware onto the network and pose other security vulnerabilities. It is important to note that CSPs often defer to more secure options, and have undergone more scrutiny than a traditional on-premises network. "
   ]
  },
  {
   "cell_type": "markdown",
   "id": "22c00d19",
   "metadata": {},
   "source": [
    "<h3><b>Zero-day attacks\n"
   ]
  },
  {
   "cell_type": "markdown",
   "id": "bfc3e5e9",
   "metadata": {},
   "source": [
    "Zero-day attacks are an important security consideration for organizations using cloud or traditional on-premise network solutions. A zero day attack is an exploit that was previously unknown. CSPs are more likely to know about a zero day attack occurring before a traditional IT organization does. CSPs have ways of patching hypervisors and migrating workloads to other virtual machines. These methods ensure the customers are not impacted by the attack. There are also several tools available for patching at the operating system level that organizations can use."
   ]
  },
  {
   "cell_type": "markdown",
   "id": "75ec0509",
   "metadata": {},
   "source": [
    "<h3><b>Visibility and tracking \n"
   ]
  },
  {
   "cell_type": "markdown",
   "id": "b2554537",
   "metadata": {},
   "source": [
    "Network administrators have access to every data packet crossing the network with both on-premise and cloud networks. They can sniff and inspect data packets to learn about network performance or to check for possible threats and attacks.\n",
    "\n",
    "This kind of visibility is also offered in the cloud through flow logs and tools, such as packet mirroring. CSPs take responsibility for security in the cloud, but they do not allow the organizations that use their infrastructure to monitor traffic on the CSP’s servers. Many CSPs offer strong security measures to protect their infrastructure. Still, this situation might be a concern for organizations that are accustomed to having full access to their network and operations. CSPs pay for third-party audits to verify how secure a cloud network is and identify potential vulnerabilities. The audits can help organizations identify whether any vulnerabilities originate from on-premise infrastructure and if there are any compliance lapses from their CSP. "
   ]
  },
  {
   "cell_type": "markdown",
   "id": "a7c6a4b2",
   "metadata": {},
   "source": [
    "<h3><b>Things change fast in the cloud\n",
    "\n"
   ]
  },
  {
   "cell_type": "markdown",
   "id": "2c8ae8ab",
   "metadata": {},
   "source": [
    "CSPs are large organizations that work hard to stay up-to-date with technology advancements. For organizations that are used to being in control of any adjustments made to their network, this can be a potential challenge to keep up with. Cloud service updates can affect security considerations for the organizations using them. For example, connection configurations might need to be changed based on the CSP’s updates. \n",
    "\n",
    "Organizations that use CSPs usually have to update their IT processes. It is possible for organizations to continue following established best practices for changes, configurations, and other security considerations. However, an organization might have to adopt a different approach in a way that aligns with changes made by the CSP. \n",
    "\n",
    "Cloud networking offers various options that might appear attractive to a small company—options that they could never afford to build on their own premises. However, it is important to consider that each service adds complexity to the security profile of the organization, and they will need security personnel to monitor all of the cloud services. "
   ]
  },
  {
   "cell_type": "markdown",
   "id": "c3eb8ea3",
   "metadata": {},
   "source": [
    "<h2><b>Shared responsibility model\n"
   ]
  },
  {
   "cell_type": "markdown",
   "id": "a1b64954",
   "metadata": {},
   "source": [
    "A commonly accepted cloud security principle is the shared responsibility model. The shared responsibility model states that the CSP must take responsibility for security involving the cloud infrastructure, including physical data centers, hypervisors, and host operating systems. The company using the cloud service is responsible for the assets and processes that they store or operate in the cloud.\n",
    "\n",
    "The shared responsibility model ensures that both the CSP and the users agree about where their responsibility for security begins and ends. A problem occurs when organizations assume that the CSP is taking care of security that they have not taken responsibility for. One example of this is cloud applications and configurations. The CSP takes responsibility for securing the cloud, but it is the organization’s responsibility to ensure that services are configured properly according to the security requirements of their organization. "
   ]
  }
 ],
 "metadata": {
  "language_info": {
   "name": "python"
  }
 },
 "nbformat": 4,
 "nbformat_minor": 5
}
