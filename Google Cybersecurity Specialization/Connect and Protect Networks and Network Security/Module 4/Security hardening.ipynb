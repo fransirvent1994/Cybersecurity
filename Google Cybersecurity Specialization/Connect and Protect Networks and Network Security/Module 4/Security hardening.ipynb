{
 "cells": [
  {
   "cell_type": "markdown",
   "id": "305540c3",
   "metadata": {},
   "source": [
    "<h1>Security hardening"
   ]
  },
  {
   "cell_type": "markdown",
   "id": "a93b0c91",
   "metadata": {},
   "source": [
    "The process of strengthening a system to reduce its vulnerability and attack surface"
   ]
  },
  {
   "cell_type": "markdown",
   "id": "9facd1e8",
   "metadata": {},
   "source": [
    "Security hardening is conducted on:\n",
    "\n",
    "<li> Hardware\n",
    "<li> OS\n",
    "<li> Applications\n",
    "<li> Computer networks"
   ]
  },
  {
   "cell_type": "markdown",
   "id": "53e81cec",
   "metadata": {},
   "source": [
    "<h3><u>Attack surface"
   ]
  },
  {
   "cell_type": "markdown",
   "id": "37978420",
   "metadata": {},
   "source": [
    "All the potential vulnerabilites that a threat actor could exploit"
   ]
  },
  {
   "cell_type": "markdown",
   "id": "16c7a9d5",
   "metadata": {},
   "source": [
    "<h3><u>Penetration test"
   ]
  },
  {
   "cell_type": "markdown",
   "id": "69930825",
   "metadata": {},
   "source": [
    "A simulated attack that helps identify vulnerabilites in systems, networks, websites, applications, and processes"
   ]
  }
 ],
 "metadata": {
  "language_info": {
   "name": "python"
  }
 },
 "nbformat": 4,
 "nbformat_minor": 5
}
