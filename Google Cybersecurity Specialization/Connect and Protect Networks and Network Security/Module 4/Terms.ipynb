{
 "cells": [
  {
   "cell_type": "markdown",
   "id": "d7ba430f",
   "metadata": {},
   "source": [
    "<h1><b>Used terms"
   ]
  },
  {
   "cell_type": "markdown",
   "id": "5240d948",
   "metadata": {},
   "source": [
    "- Baseline configuration (baseline image): \n",
    "\n",
    "        A documented set of specifications within a system that is used as a basis for future builds, releases, and updates\n",
    "\n",
    "- Hardware: \n",
    "\n",
    "        The physical components of a computer\n",
    "\n",
    "- Multi-factor authentication (MFA): \n",
    "\n",
    "        A security measure which requires a user to verify their identity in two or more ways to access a system or network\n",
    "\n",
    "- Network log analysis: \n",
    "\n",
    "        The process of examining network logs to identify events of interest \n",
    "\n",
    "- Operating system (OS): \n",
    "\n",
    "        The interface between computer hardware and the user\n",
    "\n",
    "- Patch update: \n",
    "\n",
    "        A software and operating system update that addresses security vulnerabilities within a program or product\n",
    "\n",
    "- Penetration testing (pen test): \n",
    "\n",
    "        A simulated attack that helps identify vulnerabilities in systems, networks, websites, applications, and processes \n",
    "\n",
    "- Security hardening: \n",
    "\n",
    "        The process of strengthening a system to reduce its vulnerabilities and attack surface\n",
    "\n",
    "- Security information and event management (SIEM): \n",
    "\n",
    "        An application that collects and analyzes log data to monitor critical activities for an organization\n",
    "\n",
    "- World-writable file: \n",
    "\n",
    "        A file that can be altered by anyone in the world"
   ]
  }
 ],
 "metadata": {
  "language_info": {
   "name": "python"
  }
 },
 "nbformat": 4,
 "nbformat_minor": 5
}
