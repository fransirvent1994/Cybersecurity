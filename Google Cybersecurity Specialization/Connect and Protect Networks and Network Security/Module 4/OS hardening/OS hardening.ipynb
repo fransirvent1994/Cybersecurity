{
 "cells": [
  {
   "cell_type": "markdown",
   "id": "c622c794",
   "metadata": {},
   "source": [
    "<h1><b><u>OS Hardening"
   ]
  },
  {
   "cell_type": "markdown",
   "id": "852328ac",
   "metadata": {},
   "source": [
    "<h2><b>Operating System(OS)"
   ]
  },
  {
   "cell_type": "markdown",
   "id": "bd1eedcc",
   "metadata": {},
   "source": [
    "The OS is the interface between computer hardware and the user."
   ]
  },
  {
   "cell_type": "markdown",
   "id": "0f2f87dc",
   "metadata": {},
   "source": [
    "<h2><b> Patch update"
   ]
  },
  {
   "cell_type": "markdown",
   "id": "35569b7b",
   "metadata": {},
   "source": [
    "A software and operating system update that addresses security vulnerabilities within a program or product"
   ]
  },
  {
   "cell_type": "markdown",
   "id": "d97425b6",
   "metadata": {},
   "source": [
    "<h2><b> Baseline configuration (baseline image)"
   ]
  },
  {
   "cell_type": "markdown",
   "id": "c7ef773e",
   "metadata": {},
   "source": [
    "A documented set of specifications within a system that is used as a basis for future builds, releases and updates"
   ]
  },
  {
   "cell_type": "markdown",
   "id": "8a82aa91",
   "metadata": {},
   "source": [
    "<h2><b> Multi-factor authentication (MFA)"
   ]
  },
  {
   "cell_type": "markdown",
   "id": "d5ec3ab9",
   "metadata": {},
   "source": [
    "Security measure which requires a user to verify their identity in two or more ways to access a system or network"
   ]
  },
  {
   "cell_type": "markdown",
   "id": "485cea8a",
   "metadata": {},
   "source": [
    "<h3><b> multi-factor identification categories</h3></b>\n",
    "\n",
    "- Something you know (bday, dog´s name, first car)\n",
    "- Something you have (credit card, social number, ID)\n",
    "- Something unique about you (biometric scans)"
   ]
  }
 ],
 "metadata": {
  "language_info": {
   "name": "python"
  }
 },
 "nbformat": 4,
 "nbformat_minor": 5
}
