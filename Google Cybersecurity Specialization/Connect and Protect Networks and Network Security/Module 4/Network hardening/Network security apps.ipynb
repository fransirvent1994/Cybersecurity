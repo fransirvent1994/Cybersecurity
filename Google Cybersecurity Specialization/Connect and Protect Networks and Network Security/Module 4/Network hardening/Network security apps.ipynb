{
 "cells": [
  {
   "cell_type": "markdown",
   "id": "2afef839",
   "metadata": {},
   "source": [
    "<h1><b><u>Network security applications"
   ]
  },
  {
   "cell_type": "markdown",
   "id": "f276303b",
   "metadata": {},
   "source": [
    "<h2><b>Firewall"
   ]
  },
  {
   "cell_type": "markdown",
   "id": "00da93e3",
   "metadata": {},
   "source": [
    "Most firewalls are similar in their basic functions. Firewalls allow or block traffic based on a set of rules. As data packets enter a network, the packet header is inspected and allowed or denied based on its port number. NGFWs are also able to inspect packet payloads. Each system should have its own firewall, regardless of the network firewall."
   ]
  },
  {
   "cell_type": "markdown",
   "id": "e05799fe",
   "metadata": {},
   "source": [
    "<h2><b>Intrusion Detection System (IDS)"
   ]
  },
  {
   "cell_type": "markdown",
   "id": "99fb063a",
   "metadata": {},
   "source": [
    "An intrusion detection system (IDS) is an application that monitors system activity and alerts on possible intrusions. An IDS alerts administrators based on the signature of malicious traffic.\n",
    "\n",
    "The IDS is configured to detect known attacks. IDS systems often sniff data packets as they move across the network and analyze them for the characteristics of known attacks. Some IDS systems review not only for signatures of known attacks, but also for anomalies that could be the sign of malicious activity. When the IDS discovers an anomaly, it sends an alert to the network administrator who can then investigate further.\n",
    "\n",
    "The limitations to IDS systems are that they can only scan for known attacks or obvious anomalies. New and sophisticated attacks might not be caught. The other limitation is that the IDS doesn’t actually stop the incoming traffic if it detects something awry. It’s up to the network administrator to catch the malicious activity before it does anything damaging to the network. "
   ]
  },
  {
   "cell_type": "markdown",
   "id": "bffc94c1",
   "metadata": {},
   "source": [
    "<h2><b>Intrusion Prevention System "
   ]
  },
  {
   "cell_type": "markdown",
   "id": "f86d9ac6",
   "metadata": {},
   "source": [
    "An intrusion prevention system (IPS) is an application that monitors system activity for intrusive activity and takes action to stop the activity. It offers even more protection than an IDS because it actively stops anomalies when they are detected, unlike the IDS that simply reports the anomaly to a network administrator.\n",
    "\n",
    "An IPS searches for signatures of known attacks and data anomalies. An IPS reports the anomaly to security analysts and blocks a specific sender or drops network packets that seem suspect.\n",
    "\n",
    "The IPS (like an IDS) sits behind the firewall in the network architecture. This offers a high level of security because risky data streams are disrupted before they even reach sensitive parts of the network. However, one potential limitation is that it is inline: If it breaks, the connection between the private network and the internet breaks. Another limitation of IPS is the possibility of false positives, which can result in legitimate traffic getting dropped."
   ]
  },
  {
   "cell_type": "markdown",
   "id": "27fcabd0",
   "metadata": {},
   "source": [
    "<h2><b>Full packet capture devices"
   ]
  },
  {
   "cell_type": "markdown",
   "id": "a2d638b2",
   "metadata": {},
   "source": [
    "Full packet capture devices can be incredibly useful for network administrators and security professionals. These devices allow you to record and analyze all of the data that is transmitted over your network. They also aid in investigating alerts created by an IDS. "
   ]
  },
  {
   "cell_type": "markdown",
   "id": "1f19f00f",
   "metadata": {},
   "source": [
    "<h2><b>Security Information and Event Management "
   ]
  },
  {
   "cell_type": "markdown",
   "id": "e05d63b0",
   "metadata": {},
   "source": [
    "A security information and event management system (SIEM) is an application that collects and analyzes log data to monitor critical activities in an organization. SIEM tools work in real time to report suspicious activity in a centralized dashboard. SIEM tools additionally analyze network log data sourced from IDSs, IPSs, firewalls, VPNs, proxies, and DNS logs. SIEM tools are a way to aggregate security event data so that it all appears in one place for security analysts to analyze. This is referred to as a single pane of glass. \n",
    "\n",
    "Below, you can review an example of a dashboard from Google Cloud’s SIEM tool, Chronicle. Chronicle is a cloud-native tool designed to retain, analyze, and search data."
   ]
  },
  {
   "cell_type": "markdown",
   "id": "a06b6481",
   "metadata": {},
   "source": [
    "Splunk is another common SIEM tool. Splunk offers different SIEM tool options: Splunk Enterprise and Splunk Cloud. Both options include detailed dashboards which help security professionals to review and analyze an organization's data. There are also other similar SIEM tools available, and it's important for security professionals to research the different tools to determine which one is most beneficial to the organization.\n",
    "\n",
    "A SIEM tool doesn’t replace the expertise of security analysts, or of the network- and system-hardening activities covered in this course, but they’re used in combination with other security methods. Security analysts often work in a Security Operations Center (SOC) where they can monitor the activity across the network. They can then use their expertise and experience to determine how to respond to the information on the dashboard and decide when the events meet the criteria to be escalated to oversight."
   ]
  }
 ],
 "metadata": {
  "language_info": {
   "name": "python"
  }
 },
 "nbformat": 4,
 "nbformat_minor": 5
}
