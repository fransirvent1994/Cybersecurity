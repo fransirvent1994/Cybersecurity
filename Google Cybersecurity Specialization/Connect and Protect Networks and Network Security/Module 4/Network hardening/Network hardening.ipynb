{
 "cells": [
  {
   "cell_type": "markdown",
   "id": "74f73dd0",
   "metadata": {},
   "source": [
    "<h1><b><u> Network security hardening"
   ]
  },
  {
   "cell_type": "markdown",
   "id": "e964b965",
   "metadata": {},
   "source": [
    "Some hardening measures are:\n",
    "\n",
    "- Port filtering\n",
    "- Network access privilege\n",
    "- Encryption"
   ]
  },
  {
   "cell_type": "markdown",
   "id": "b50807d9",
   "metadata": {},
   "source": [
    "Tasks performed are:\n",
    "\n",
    "- Firewall rules maintenance\n",
    "- Network log analysis\n",
    "- Patch updates\n",
    "- Server backups"
   ]
  },
  {
   "cell_type": "markdown",
   "id": "ab34e48a",
   "metadata": {},
   "source": [
    "<h2><b> Network log analysis"
   ]
  },
  {
   "cell_type": "markdown",
   "id": "1857d076",
   "metadata": {},
   "source": [
    "The process of examining network logs to identify events of interest"
   ]
  },
  {
   "cell_type": "markdown",
   "id": "6e57aa9d",
   "metadata": {},
   "source": [
    "<h2><b> Security Information and Event Management tool (SIEM)"
   ]
  },
  {
   "cell_type": "markdown",
   "id": "977c6d18",
   "metadata": {},
   "source": [
    "App that collects and analyzes log data to monitor critical activities in an organization"
   ]
  },
  {
   "cell_type": "markdown",
   "id": "5c5d5125",
   "metadata": {},
   "source": [
    "<h2><b> Port filtering"
   ]
  },
  {
   "cell_type": "markdown",
   "id": "54b74f01",
   "metadata": {},
   "source": [
    "A firewall function that blocks or allows certain port numbers to limit unwanted communication"
   ]
  }
 ],
 "metadata": {
  "language_info": {
   "name": "python"
  }
 },
 "nbformat": 4,
 "nbformat_minor": 5
}
