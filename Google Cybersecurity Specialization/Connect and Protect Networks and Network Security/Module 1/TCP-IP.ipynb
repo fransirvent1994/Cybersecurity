{
 "cells": [
  {
   "cell_type": "markdown",
   "metadata": {},
   "source": [
    "Transmission Control Protocol (TCP) = An internet communication protocol that allows two devices to form a connection and stream data"
   ]
  },
  {
   "cell_type": "markdown",
   "metadata": {},
   "source": [
    "TCP/IP model = A framework used to visualize how data is organized and transmitted across the network."
   ]
  },
  {
   "cell_type": "markdown",
   "metadata": {},
   "source": [
    "Internet Protocol (IP) = A set of standards used for routing and addressing data packets as they travel between devices on a network"
   ]
  },
  {
   "cell_type": "markdown",
   "metadata": {},
   "source": [
    "<h2>Layers of the TCP/IP model"
   ]
  },
  {
   "cell_type": "markdown",
   "metadata": {},
   "source": [
    "\n",
    "<h3><b><u>1. Network access layer</b></u>"
   ]
  },
  {
   "cell_type": "markdown",
   "metadata": {},
   "source": [
    " The network access layer, sometimes called the data link layer, deals with the creation of data packets and their transmission across a network. This layer corresponds to the physical hardware involved in network transmission. Hubs, modems, cables, and wiring are all considered part of this layer. The address resolution protocol (ARP) is part of the network access layer. Since MAC addresses are used to identify hosts on the same physical network, ARP is needed to map IP addresses to MAC addresses for local network communication."
   ]
  },
  {
   "cell_type": "markdown",
   "metadata": {},
   "source": [
    "<h3><b><u>2. Internet layer</b></u>\n"
   ]
  },
  {
   "cell_type": "markdown",
   "metadata": {},
   "source": [
    "The internet layer, sometimes referred to as the network layer, is responsible for ensuring the delivery to the destination host, which potentially resides on a different network. It ensures IP addresses are attached to data packets to indicate the location of the sender and receiver. The internet layer also determines which protocol is responsible for delivering the data packets and ensures the delivery to the destination host. Here are some of the common protocols that operate at the internet layer:\n",
    "\n",
    "<li><b><u>Internet Protocol (IP).</b></u>\n",
    "\n",
    "IP sends the data packets to the correct destination and relies on the Transmission Control Protocol/User Datagram Protocol (TCP/UDP) to deliver them to the corresponding service. IP packets allow communication between two networks. They are routed from the sending network to the receiving network. TCP in particular retransmits any data that is lost or corrupt.\n",
    "\n",
    "<li><b><u>Internet Control Message Protocol (ICMP).</b></u> \n",
    "\n",
    "The ICMP shares error information and status updates of data packets. This is useful for detecting and troubleshooting network errors. The ICMP reports information about packets that were dropped or that disappeared in transit, issues with network connectivity, and packets redirected to other routers."
   ]
  },
  {
   "cell_type": "markdown",
   "metadata": {},
   "source": [
    "<h3><b><u>3. Transport layer</b></u>"
   ]
  },
  {
   "cell_type": "markdown",
   "metadata": {},
   "source": [
    " The transport layer is responsible for delivering data between two systems or networks and includes protocols to control the flow of traffic across a network. TCP and UDP are the two transport protocols that occur at this layer. \n",
    "\n",
    "<li><b><u>Transmission Control Protocol</b></u>\n",
    "<p>\n",
    " The Transmission Control Protocol (TCP) is an internet communication protocol that allows two devices to form a connection and stream data. It ensures that data is reliably transmitted to the destination service. TCP contains the port number of the intended destination service, which resides in the TCP header of a TCP/IP packet.\n",
    "\n",
    "<li><b><u>User Datagram Protocol </b></u>\n",
    "<p>\n",
    " The User Datagram Protocol (UDP) is a connectionless protocol that does not establish a connection between devices before transmissions. It is used by applications that are not concerned with the reliability of the transmission. Data sent over UDP is not tracked as extensively as data sent using TCP. Because UDP does not establish network connections, it is used mostly for performance sensitive applications that operate in real time, such as video streaming."
   ]
  },
  {
   "cell_type": "markdown",
   "metadata": {},
   "source": [
    "<h3><b><u>4. Application layer</b></u>"
   ]
  },
  {
   "cell_type": "markdown",
   "metadata": {},
   "source": [
    "The application layer in the TCP/IP model is similar to the application, presentation, and session layers of the OSI model. The application layer is responsible for making network requests or responding to requests. This layer defines which internet services and applications any user can access. Protocols in the application layer determine how the data packets will interact with receiving devices. Some common protocols used on this layer are: \n",
    "\n",
    "<li> Hypertext transfer protocol (HTTP)\n",
    "\n",
    "<li> Simple mail transfer protocol (SMTP)\n",
    "\n",
    "<li> Secure shell (SSH)\n",
    "\n",
    "<li> File transfer protocol (FTP)\n",
    "\n",
    "<li> Domain name system (DNS)\n",
    "\n",
    "Application layer protocols rely on underlying layers to transfer the data across the network."
   ]
  },
  {
   "cell_type": "markdown",
   "metadata": {},
   "source": [
    "Internet Protocol (IP) address\n",
    "A unique string of characters that identifies the location of a device on the internet"
   ]
  },
  {
   "cell_type": "markdown",
   "metadata": {},
   "source": [
    "IP addresses:\n",
    "<li> IP version 4 (IPv4)\n",
    "<li> IP version 6 (IPv6)"
   ]
  },
  {
   "cell_type": "markdown",
   "metadata": {},
   "source": [
    "MAC address:\n",
    "<p>\n",
    "A unique alphanumeric identifier that is assigned to each physical device on a network"
   ]
  },
  {
   "cell_type": "markdown",
   "metadata": {},
   "source": [
    "Port = A software-based location that organizes the sending and receiving of data between devices on a network"
   ]
  },
  {
   "cell_type": "markdown",
   "metadata": {},
   "source": [
    "Port numbers:\n",
    "- Port 25 = Email\n",
    "- Port 443 = Secure internet communication\n",
    "- Port 20 = Large file transfers\n",
    "- Port =\n",
    "- Port =\n",
    "- Port =\n",
    "- Port =\n",
    "- Port ="
   ]
  }
 ],
 "metadata": {
  "language_info": {
   "name": "python"
  }
 },
 "nbformat": 4,
 "nbformat_minor": 2
}
