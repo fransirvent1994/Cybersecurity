{
 "cells": [
  {
   "cell_type": "markdown",
   "id": "a9c30b25",
   "metadata": {},
   "source": [
    "<li><b><u>Bandwidth:</b></u> The maximum data transmission capacity over a network, measured by bits per second\n",
    "<p>\n",
    "<li><b><u>Cloud computing:</b></u> The practice of using remote servers, application, and network services that are hosted on the internet instead of on local physical devices\n",
    "<p>\n",
    "<li><b><u>Cloud network:</b></u> A collection of servers or computers that stores resources and data in remote data centers that can be accessed via the internet\n",
    "<p>\n",
    "<li><b><u>Data packet:</b></u> A basic unit of information that travels from one device to another within a network\n",
    "<p>\n",
    "<li><b><u>Hub:</b></u> A network device that broadcasts information to every device on the network\n",
    "<p>\n",
    "<li><b><u>Internet Protocol (IP):</b></u> A set of standards used for routing and addressing data packets as they travel between devices on a network\n",
    "<p>\n",
    "<li><b><u>Internet Protocol (IP) address:</b></u> A unique string of characters that identifies the location of a device on the internet\n",
    "<p>\n",
    "<li><b><u>Local Area Network (LAN):</b></u> A network that spans small areas like an office building, a school, or a home\n",
    "<p>\n",
    "<li><b><u>Media Access Control (MAC) address:</b></u> A unique alphanumeric identifier that is assigned to each physical device on a network\n",
    "<p>\n",
    "<li><b><u>Modem:</b></u> A device that connects your router to the internet and brings internet access to the LAN\n",
    "<p>\n",
    "<li><b><u>Network:</b></u> A group of connected devices\n",
    "<p>\n",
    "<li><b><u>Open systems interconnection (OSI) model:</b></u> A standardized concept that describes the seven layers computers use to communicate and send data over the network\n",
    "<p>\n",
    "<li><b><u>Packet sniffing:</b></u> The practice of capturing and inspecting data packets across a network\n",
    "<p>\n",
    "<li><b><u>Port:</b></u> A software-based location that organizes the sending and receiving of data between devices on a network\n",
    "<p>\n",
    "<li><b><u>Router:</b></u> A network device that connects multiple networks together\n",
    "<p>\n",
    "<li><b><u>Speed:</b></u> The rate at which a device sends and receives data, measured by bits per second\n",
    "<p>\n",
    "<li><b><u>Switch:</b></u> A device that makes connections between specific devices on a network by sending and receiving data between them\n",
    "<p>\n",
    "<li><b><u>TCP/IP model:</b></u> A framework used to visualize how data is organized and transmitted across a network\n",
    "<p>\n",
    "<li><b><u>Transmission Control Protocol (TCP):</b></u> An internet communication protocol that allows two devices to form a connection and stream data\n",
    "<p>\n",
    "<li><b><u>User Datagram Protocol (UDP):</b></u> A connectionless protocol that does not establish a connection between devices before transmissions\n",
    "<p>\n",
    "<li><b><u>Wide Area Network (WAN):</b></u> A network that spans a large geographic area like a city, state, or country"
   ]
  }
 ],
 "metadata": {
  "language_info": {
   "name": "python"
  }
 },
 "nbformat": 4,
 "nbformat_minor": 5
}
