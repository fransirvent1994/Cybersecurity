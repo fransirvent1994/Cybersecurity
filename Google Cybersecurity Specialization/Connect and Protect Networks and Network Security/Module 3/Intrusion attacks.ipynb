{
 "cells": [
  {
   "cell_type": "markdown",
   "id": "31540a6c",
   "metadata": {},
   "source": [
    "<h1>Common network intrusion attacks"
   ]
  },
  {
   "cell_type": "markdown",
   "id": "3f91cf57",
   "metadata": {},
   "source": [
    "<li> Malware\n",
    "<li> Spoofing\n",
    "<li> Packet sniffing\n",
    "<li> Packet flooding"
   ]
  },
  {
   "cell_type": "markdown",
   "id": "47a43c25",
   "metadata": {},
   "source": [
    "<h2> Attacks can harm an organization by:\n",
    "<li> Leaking valuable or confidential information\n",
    "<li> Damaging an organization´s reputation\n",
    "<li> Impacting customer retention\n",
    "<li> Costing money and time"
   ]
  },
  {
   "cell_type": "markdown",
   "id": "7995abc5",
   "metadata": {},
   "source": [
    "<h2>How intrusions compromise your system"
   ]
  },
  {
   "cell_type": "markdown",
   "id": "3d8e8e87",
   "metadata": {},
   "source": [
    "Attackers could have varying motivations for attacking your organization’s network. They may have financial, personal, or political motivations, or they may be a disgruntled employee or an activist who disagrees with the company's values and wants to harm an organization’s operations. Malicious actors can target any network. Security analysts must be constantly alert to potential vulnerabilities in their organization’s network and take quick action to mitigate them."
   ]
  },
  {
   "cell_type": "markdown",
   "id": "5c536112",
   "metadata": {},
   "source": [
    "<h3><u>Network interception attacks </h3></u>\n",
    "Network interception attacks work by intercepting network traffic and stealing valuable information or interfering with the transmission in some way.\n",
    "\n",
    "Malicious actors can use hardware or software tools to capture and inspect data in transit. This is referred to as packet sniffing. In addition to seeing information that they are not entitled to, malicious actors can also intercept network traffic and alter it. These attacks can cause damage to an organization’s network by inserting malicious code modifications or altering the message and interrupting network operations. For example, an attacker can intercept a bank transfer and change the account receiving the funds to one that the attacker controls."
   ]
  },
  {
   "cell_type": "markdown",
   "id": "00c4139b",
   "metadata": {},
   "source": [
    "<h3><u>Backdoor attacks</h3></u>\n",
    "\n",
    "A backdoor attack is another type of attack you will need to be aware of as a security analyst. An organization may have a lot of security measures in place, including cameras, biometric scans and access codes to keep employees from entering and exiting without being seen. However, an employee might work around the security measures by finding a backdoor to the building that is not as heavily monitored, allowing them to sneak out for the afternoon without being seen. \n",
    "\n",
    "In cybersecurity, backdoors are weaknesses intentionally left by programmers or system and network administrators that bypass normal access control mechanisms. Backdoors are intended to help programmers conduct troubleshooting or administrative tasks. However, backdoors can also be installed by attackers after they’ve compromised an organization to ensure they have persistent access.\n",
    "\n",
    "Once the hacker has entered an insecure network through a backdoor, they can cause extensive damage: installing malware, performing a denial of service (DoS) attack, stealing private information or changing other security settings that leaves the system vulnerable to other attacks. A DoS attack is an attack that targets a network or server and floods it with network traffic."
   ]
  },
  {
   "cell_type": "markdown",
   "id": "6048337c",
   "metadata": {},
   "source": [
    "<h3><u>Possible impacts on an organization</h3></u>\n",
    "Network attacks can have a significant negative impact on an organization. For example:\n",
    "\n",
    "<li><b>Financial:</b> When a system is taken offline with a DoS attack or some other tactic, they prevent a company from performing  tasks that generate revenue. Depending on the size of an organization, interrupted operations can cost millions of dollars. Reparation costs to rebuild software infrastructure and to pay large sums associated with potential ransomware can be financially difficult. In addition, if a malicious actor gets access to the personal information of the company’s clients or customers, the company may face heavy litigation and settlement costs if customers seek legal recourse.\n",
    "<p>\n",
    "<li><b>Reputation:</b>Attacks can also have a negative impact on the reputation of an organization. If it becomes public knowledge that a company has experienced a cyber attack, the public may become concerned about the security practices of the organization. They may stop trusting the company with their personal information and choose a competitor to fulfill their needs.\n",
    "<p>\n",
    "<li><b>Public safety:</b> If an attack occurs on a government network, this can potentially impact the safety and welfare of the citizens of a country. In recent years, defense agencies across the globe are investing heavily in combating cyber warfare tactics. If a malicious actor gained access to a power grid, a public water system, or even a military defense communication system, the public could face physical harm due to a network intrusion attack.</b>"
   ]
  }
 ],
 "metadata": {
  "language_info": {
   "name": "python"
  }
 },
 "nbformat": 4,
 "nbformat_minor": 5
}
