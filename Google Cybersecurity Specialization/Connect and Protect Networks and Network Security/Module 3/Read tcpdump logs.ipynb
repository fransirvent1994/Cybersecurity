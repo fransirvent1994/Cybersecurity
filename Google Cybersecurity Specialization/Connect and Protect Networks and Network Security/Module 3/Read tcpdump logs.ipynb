{
 "cells": [
  {
   "cell_type": "markdown",
   "id": "70bb66a1",
   "metadata": {},
   "source": [
    "<h1><u>Read tcpdump logs"
   ]
  },
  {
   "cell_type": "markdown",
   "id": "1c987a3b",
   "metadata": {},
   "source": [
    "A network protocol analyzer, sometimes called a packet sniffer or a packet analyzer, is a tool designed to capture and analyze data traffic within a network. They are commonly used as investigative tools to monitor networks and identify suspicious activity. There are a wide variety of network protocol analyzers available, but some of the most common analyzers  include:\n",
    "\n",
    "<li>SolarWinds NetFlow Traffic Analyzer\n",
    "\n",
    "<li>ManageEngine OpManager\n",
    "\n",
    "<li>Azure Network Watcher\n",
    "\n",
    "<li>Wireshark\n",
    "\n",
    "<li>tcpdump\n",
    "\n",
    "This reading will focus exclusively on tcpdump, though you can apply what you learn here to many of the other network protocol analyzers you'll use as a cybersecurity analyst to defend against any network intrusions. In an upcoming activity, you’ll review a tcpdump data traffic log and identify a DoS attack to practice these skills. "
   ]
  },
  {
   "cell_type": "markdown",
   "id": "e37cb1cf",
   "metadata": {},
   "source": [
    "<h2><u>Tcpdump "
   ]
  },
  {
   "cell_type": "markdown",
   "id": "526cb3d2",
   "metadata": {},
   "source": [
    "tcpdump is a command-line network protocol analyzer. It is popular, lightweight–meaning it uses little memory and has a low CPU usage–and uses the open-source libpcap library. tcpdump is text based, meaning all commands in tcpdump are executed in the terminal. It can also be installed on other Unix-based operating systems, such as macOS®. It is preinstalled on many Linux distributions.\n",
    "\n",
    "tcpdump provides a brief packet analysis and converts key information about network traffic into formats easily read by humans. It prints information about each packet directly into your terminal. tcpdump also displays the source IP address, destination IP addresses, and the port numbers being used in the communications. "
   ]
  },
  {
   "cell_type": "markdown",
   "id": "4f0b1e98",
   "metadata": {},
   "source": [
    "<h2><u>Interpreting output\n"
   ]
  },
  {
   "cell_type": "markdown",
   "id": "84c557b6",
   "metadata": {},
   "source": [
    "tcpdump prints the output of the command as the sniffed packets in the command line, and optionally to a log file, after a command is executed. The output of a packet capture contains many pieces of important information about the network traffic. \n",
    "\n",
    "\n",
    "Some information you receive from a packet capture includes: \n",
    "\n",
    "<li> Timestamp: The output begins with the timestamp, formatted as hours, minutes, seconds, and fractions of a second.  \n",
    "\n",
    "<li> Source IP: The packet’s origin is provided by its source IP address.\n",
    "\n",
    "<li> Source port: This port number is where the packet originated.\n",
    "\n",
    "<li> Destination IP: The destination IP address is where the packet is being transmitted to.\n",
    "\n",
    "<li> Destination port: This port number is where the packet is being transmitted to."
   ]
  },
  {
   "cell_type": "markdown",
   "id": "6afdc1fb",
   "metadata": {},
   "source": [
    "<h2><u>Common uses"
   ]
  },
  {
   "cell_type": "markdown",
   "id": "1af171bd",
   "metadata": {},
   "source": [
    "tcpdump and other network protocol analyzers are commonly used to capture and view network communications and to collect statistics about the network, such as troubleshooting network performance issues. They can also be used to:\n",
    "\n",
    "<li> Establish a baseline for network traffic patterns and network utilization metrics.\n",
    "\n",
    "<li> Detect and identify malicious traffic\n",
    "\n",
    "<li> Create customized alerts to send the right notifications when network issues or security threats arise.\n",
    "\n",
    "<li> Locate unauthorized instant messaging (IM), traffic, or wireless access points.\n",
    "\n",
    "However, attackers can also use network protocol analyzers maliciously to gain information about a specific network. For example, attackers can capture data packets that contain sensitive information, such as account usernames and passwords. As a cybersecurity analyst, It’s important to understand the purpose and uses of network protocol analyzers. "
   ]
  }
 ],
 "metadata": {
  "language_info": {
   "name": "python"
  }
 },
 "nbformat": 4,
 "nbformat_minor": 5
}
