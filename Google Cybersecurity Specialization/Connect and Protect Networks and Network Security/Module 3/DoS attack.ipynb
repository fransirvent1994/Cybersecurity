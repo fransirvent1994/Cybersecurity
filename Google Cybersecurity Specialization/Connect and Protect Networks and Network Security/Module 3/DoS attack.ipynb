{
 "cells": [
  {
   "cell_type": "markdown",
   "id": "1d957aa7",
   "metadata": {},
   "source": [
    "<h1>Denial of service attack (DoS)"
   ]
  },
  {
   "cell_type": "markdown",
   "id": "27c41153",
   "metadata": {},
   "source": [
    "An attack that targets a network or server and floods it with network traffic."
   ]
  },
  {
   "cell_type": "markdown",
   "id": "aff4cda4",
   "metadata": {},
   "source": [
    "A Denial of Service attack is a class of attacks where the attacker prevents the compromised system from performing legitimate activity or responding to legitimate traffic. Unlike IP spoofing, however, the attacker will not receive a response from the targeted host. Everything about the data packet is authorized including the IP address in the header of the packet. In IP spoofing attacks, the malicious actor uses IP packets containing fake IP addresses. The attackers keep sending IP packets containing fake IP addresses until the network server crashes.\n",
    "\n",
    "Pro Tip: Remember the principle of defense-in-depth. There isn’t one perfect strategy for stopping each kind of attack. You can layer your defense by using multiple strategies. In this case, using industry standard encryption will strengthen your security and help you defend from DoS attacks on more than one level. "
   ]
  },
  {
   "cell_type": "markdown",
   "id": "31a78a70",
   "metadata": {},
   "source": [
    "<h2><u>Distributed denial of service attack (DDoS)"
   ]
  },
  {
   "cell_type": "markdown",
   "id": "020761f2",
   "metadata": {},
   "source": [
    "A type of denial os service attack that uses multiple devices or servers in different locations to flood the target network with unwanted traffic"
   ]
  },
  {
   "cell_type": "markdown",
   "id": "d38bf8f0",
   "metadata": {},
   "source": [
    "<h2><u>SYN (synchronize) flood attack"
   ]
  },
  {
   "cell_type": "markdown",
   "id": "c71f3f17",
   "metadata": {},
   "source": [
    "A type of DoS attack that simulates a TCP connection and floods a server with SYN packets"
   ]
  },
  {
   "cell_type": "markdown",
   "id": "3b49ad2b",
   "metadata": {},
   "source": [
    "<h2><u>Internet Control Message Protocol (ICMP)"
   ]
  },
  {
   "cell_type": "markdown",
   "id": "29395257",
   "metadata": {},
   "source": [
    "An internet protocol used by devices to tell each other about data transimission errors across the network."
   ]
  },
  {
   "cell_type": "markdown",
   "id": "585275fc",
   "metadata": {},
   "source": [
    "<h2><u>Internet Control Message Protocol (ICMP) flood"
   ]
  },
  {
   "cell_type": "markdown",
   "id": "a270cb1e",
   "metadata": {},
   "source": [
    "A type of DoS attack performed by an attacker repeatedly sending ICMP packets to a network server"
   ]
  },
  {
   "cell_type": "markdown",
   "id": "efcf47f9",
   "metadata": {},
   "source": [
    "<h2><u> Ping of death"
   ]
  },
  {
   "cell_type": "markdown",
   "id": "a293c5cf",
   "metadata": {},
   "source": [
    "A type of DoS attack caused when a hacker pings a system by sending it an oversized ICMP packet that is bigger than 64KB"
   ]
  }
 ],
 "metadata": {
  "language_info": {
   "name": "python"
  }
 },
 "nbformat": 4,
 "nbformat_minor": 5
}
