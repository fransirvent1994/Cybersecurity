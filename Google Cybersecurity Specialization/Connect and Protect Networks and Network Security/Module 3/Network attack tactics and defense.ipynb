{
 "cells": [
  {
   "cell_type": "markdown",
   "id": "e02bf7ee",
   "metadata": {},
   "source": [
    "<h2><u>Malicious packet sniffing"
   ]
  },
  {
   "cell_type": "markdown",
   "id": "0fa4e9c5",
   "metadata": {},
   "source": [
    "A type of attack where data packets are manipulated in transit."
   ]
  },
  {
   "cell_type": "markdown",
   "id": "e517064e",
   "metadata": {},
   "source": [
    "<h2><u>IP spoofing"
   ]
  },
  {
   "cell_type": "markdown",
   "id": "ff56de88",
   "metadata": {},
   "source": [
    "A network attack performed when an attacker changes the source IP of a data packet to impersonate an authorized system and gain access to a network."
   ]
  },
  {
   "cell_type": "markdown",
   "id": "6801b112",
   "metadata": {},
   "source": [
    "After a malicious actor has sniffed packets on the network, they can impersonate the IP and MAC addresses of authorized devices to perform an IP spoofing attack. Firewalls can prevent IP spoofing attacks by configuring it to refuse unauthorized IP packets and suspicious traffic. Next, you’ll examine a few common IP spoofing attacks that are important to be familiar with as a security analyst."
   ]
  },
  {
   "cell_type": "markdown",
   "id": "a024a43c",
   "metadata": {},
   "source": [
    "<h3><u>Common IP spoofing attacks:"
   ]
  },
  {
   "cell_type": "markdown",
   "id": "7152f10e",
   "metadata": {},
   "source": [
    "<h3><b><u>1. On-path attack"
   ]
  },
  {
   "cell_type": "markdown",
   "id": "0fce495a",
   "metadata": {},
   "source": [
    "An attack where a malicious actor places themselves in the middle of an authorized connection and intercepts or alters the data in transit"
   ]
  },
  {
   "cell_type": "markdown",
   "id": "704c64b3",
   "metadata": {},
   "source": [
    "An on-path attack happens when a hacker intercepts the communication between two devices or servers that have a trusted relationship. The transmission between these two trusted network devices could contain valuable information like usernames and passwords that the malicious actor can collect. An on-path attack is sometimes referred to as a meddler-in-the middle attack because the hacker is hiding in the middle of communications between two trusted parties.\n",
    "\n",
    "Or, it could be that the intercepted transmission contains a DNS system look-up. You’ll recall from an earlier video that a DNS server translates website domain names into IP addresses. If a malicious actor intercepts a transmission containing a DNS lookup, they could spoof the DNS response from the server and redirect a domain name to a different IP address, perhaps one that contains malicious code or other threats. The most important way to protect against an on-path attack is to encrypt your data in transit, e.g. using TLS. "
   ]
  },
  {
   "cell_type": "markdown",
   "id": "2320e58a",
   "metadata": {},
   "source": [
    "<h3><b><u>2. Replay attack"
   ]
  },
  {
   "cell_type": "markdown",
   "id": "8566fa1d",
   "metadata": {},
   "source": [
    "A network attack performed when a malicious actor intercepts a data packet in transit and delays it or repeats it at another time."
   ]
  },
  {
   "cell_type": "markdown",
   "id": "545743b1",
   "metadata": {},
   "source": [
    "<h3><b><u>\n",
    "3. Smurf attack"
   ]
  },
  {
   "cell_type": "markdown",
   "id": "f8227e00",
   "metadata": {},
   "source": [
    "A network attack performed when an attacker sniffs an authorized user´s IP address and floods it with packets."
   ]
  },
  {
   "cell_type": "markdown",
   "id": "46a5e95f",
   "metadata": {},
   "source": [
    "A smurf attack is a network attack that is performed when an attacker sniffs an authorized user’s IP address and floods it with packets. Once the spoofed packet reaches the broadcast address, it is sent to all of the devices and servers on the network. \n",
    "\n",
    "In a smurf attack, IP spoofing is combined with another denial of service (DoS) technique to flood the network with unwanted traffic. For example, the spoofed packet could include an Internet Control Message Protocol (ICMP) ping. As you learned earlier, ICMP is used to troubleshoot a network. But if too many ICMP messages are transmitted, the ICMP echo responses overwhelm the servers on the network and they shut down. This creates a denial of service and can bring an organization’s operations to a halt.\n",
    "\n",
    "An important way to protect against a smurf attack is to use an advanced firewall that can monitor any unusual traffic on the network. Most next generation firewalls (NGFW) include features that detect network anomalies to ensure that oversized broadcasts are detected before they have a chance to bring down the network."
   ]
  }
 ],
 "metadata": {
  "language_info": {
   "name": "python"
  }
 },
 "nbformat": 4,
 "nbformat_minor": 5
}
