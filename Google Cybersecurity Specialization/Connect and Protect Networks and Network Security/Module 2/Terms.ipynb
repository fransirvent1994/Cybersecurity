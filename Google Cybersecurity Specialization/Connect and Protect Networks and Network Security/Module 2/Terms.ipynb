{
 "cells": [
  {
   "cell_type": "markdown",
   "id": "82748f26",
   "metadata": {},
   "source": [
    "<h1><u>Terms"
   ]
  },
  {
   "cell_type": "markdown",
   "id": "f54805be",
   "metadata": {},
   "source": [
    "\n",
    "<li><b>Address Resolution Protocol (ARP):</b> A network protocol used to determine the MAC address of the next router or device on the path\n",
    "<p>\n",
    "<li><b>Cloud-based firewalls:</b> Software firewalls that are hosted by the cloud service provider\n",
    "<p>\n",
    "<li><b>Controlled zone:</b> A subnet that protects the internal network from the uncontrolled zone\n",
    "<p>\n",
    "<li><b>Domain Name System (DNS):</b> A networking protocol that translates internet domain names into IP addresses\n",
    "<p>\n",
    "<li><b>Encapsulation:</b> A process performed by a VPN service that protects your data by wrapping sensitive data in other data packets\n",
    "<p>\n",
    "<li><b>Firewall:</b> A network security device that monitors traffic to or from your network\n",
    "<p>\n",
    "<li><b>Forward proxy server:</b> A server that regulates and restricts a person’s access to the internet\n",
    "<p>\n",
    "<li><b>Hypertext Transfer Protocol (HTTP):</b> An application layer protocol that provides a method of communication between clients and website servers\n",
    "<p>\n",
    "<li><b>Hypertext Transfer Protocol Secure (HTTPS):</b> A network protocol that provides a secure method of communication between clients and servers\n",
    "<p>\n",
    "<li><b>IEEE 802.11 (Wi-Fi):</b> A set of standards that define communication for wireless LANs\n",
    "<p>\n",
    "<li><b>Network protocols:</b> A set of rules used by two or more devices on a network to describe the order of delivery of data and the structure of data\n",
    "<p>\n",
    "<li><b>Network segmentation:</b> A security technique that divides the network into segments\n",
    "<p>\n",
    "<li><b>Port filtering:</b> A firewall function that blocks or allows certain port numbers to limit unwanted communication\n",
    "<p>\n",
    "<li><b>Proxy server:</b> A server that fulfills the requests of its clients by forwarding them to other servers\n",
    "<p>\n",
    "<li><b>Reverse proxy server:</b> A server that regulates and restricts the internet's access to an internal server\n",
    "<p>\n",
    "<li><b>Secure File Transfer Protocol (SFTP):</b> A secure protocol used to transfer files from one device to another over a network\n",
    "<p>\n",
    "<li><b>Secure shell (SSH):</b> A security protocol used to create a shell with a remote system \n",
    "<p>\n",
    "<li><b>Security zone:</b> A segment of a company’s network that protects the internal network from the internet\n",
    "<p>\n",
    "<li><b>Simple Network Management Protocol (SNMP):</b> A network protocol used for monitoring and managing devices on a network\n",
    "<p>\n",
    "<li><b>Stateful:</b> A class of firewall that keeps track of information passing through it and proactively filters out threats \n",
    "<p>\n",
    "<li><b>Stateless:</b> A class of firewall that operates based on predefined rules and does not keep track of information from data packets\n",
    "<p>\n",
    "<li><b>Subnetting:</b> The subdivision of a network into logical groups called subnets\n",
    "<p>\n",
    "<li><b>Transmission Control Protocol (TCP):</b> An internet communication protocol that allows two devices to form a connection and stream data\n",
    "<p>\n",
    "<li><b>Uncontrolled zone:</b> The portion of the network outside the organization\n",
    "<p>\n",
    "<li><b>Virtual private network (VPN):</b> A network security service that changes your public IP address and masks your virtual location so that you can keep your data private when you are using a public network like the internet\n",
    "<p>\n",
    "<li><b>Wi-Fi Protected Access (WPA):</b> A wireless security protocol for devices to connect to the internet"
   ]
  }
 ],
 "metadata": {
  "language_info": {
   "name": "python"
  }
 },
 "nbformat": 4,
 "nbformat_minor": 5
}
