{
 "cells": [
  {
   "cell_type": "markdown",
   "id": "254ef23f",
   "metadata": {},
   "source": [
    "<h1>Proxy servers"
   ]
  },
  {
   "cell_type": "markdown",
   "id": "592f054d",
   "metadata": {},
   "source": [
    "Is a server that fulfills the requests of a client by forwarding them on to others servers."
   ]
  },
  {
   "cell_type": "markdown",
   "id": "73ce7bc9",
   "metadata": {},
   "source": [
    "<h2> Forward proxy server"
   ]
  },
  {
   "cell_type": "markdown",
   "id": "ab28d04c",
   "metadata": {},
   "source": [
    "Regulates and restricts a person´s access to the internet"
   ]
  },
  {
   "cell_type": "markdown",
   "id": "15152c27",
   "metadata": {},
   "source": [
    "<h2> Reverse proxy server"
   ]
  },
  {
   "cell_type": "markdown",
   "id": "17435f4e",
   "metadata": {},
   "source": [
    "Regulates and restricts the internet´s access to an internal server"
   ]
  }
 ],
 "metadata": {
  "language_info": {
   "name": "python"
  }
 },
 "nbformat": 4,
 "nbformat_minor": 5
}
