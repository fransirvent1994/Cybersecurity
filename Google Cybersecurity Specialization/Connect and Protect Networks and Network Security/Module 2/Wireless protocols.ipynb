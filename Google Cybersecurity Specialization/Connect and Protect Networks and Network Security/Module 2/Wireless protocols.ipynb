{
 "cells": [
  {
   "cell_type": "markdown",
   "id": "8b02203d",
   "metadata": {},
   "source": [
    "# Wireless Protocols"
   ]
  },
  {
   "cell_type": "markdown",
   "id": "e53f549d",
   "metadata": {},
   "source": [
    "<h2><b><u>IEEE 802.11 (WiFi)</h2></b></u>\n",
    "\n",
    "A set of standards that define communications for wireless LANs"
   ]
  },
  {
   "cell_type": "markdown",
   "id": "15874950",
   "metadata": {},
   "source": [
    "<h2<b><u>WiFi Protected Access (WPA)</h2></b></u>\n",
    "\n",
    "A wireless security protocol for devices to connect to the internet"
   ]
  }
 ],
 "metadata": {
  "language_info": {
   "name": "python"
  }
 },
 "nbformat": 4,
 "nbformat_minor": 5
}
