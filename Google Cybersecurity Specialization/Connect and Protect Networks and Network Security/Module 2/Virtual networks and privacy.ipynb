{
 "cells": [
  {
   "cell_type": "markdown",
   "id": "4650fb76",
   "metadata": {},
   "source": [
    "<h1>Virtual networks and privacy"
   ]
  },
  {
   "cell_type": "markdown",
   "id": "be5a50d1",
   "metadata": {},
   "source": [
    "<h2><u>Common network protocols  "
   ]
  },
  {
   "cell_type": "markdown",
   "id": "a8bcbe23",
   "metadata": {},
   "source": [
    "Network protocols are used to direct traffic to the correct device and service depending on the kind of communication being performed by the devices on the network. Protocols are the rules used by all network devices that provide a mutually agreed upon foundation for how to transfer data across a network.\n",
    "\n",
    "There are three main categories of network protocols: communication protocols, management protocols, and security protocols. \n",
    "\n",
    "\n",
    "1) Communication protocols are used to establish connections between servers. Examples include TCP, UDP, and Simple Mail Transfer Protocol (SMTP), which provides a framework for email communication. \n",
    "\n",
    "2) Management protocols are used to troubleshoot network issues. One example is the Internet Control Message Protocol (ICMP).\n",
    "\n",
    "3) Security protocols provide encryption for data in transit. Examples include IPSec and SSL/TLS.\n",
    "\n",
    "Some other commonly used protocols are:\n",
    "\n",
    "<li> HyperText Transfer Protocol (HTTP). HTTP is an application layer communication protocol. This allows the browser and the web server to communicate with one another. \n",
    "\n",
    "<li> Domain Name System (DNS). DNS is an application layer protocol that translates, or maps, host names to IP addresses.\n",
    "\n",
    "<li> Address Resolution Protocol (ARP). ARP is a network layer communication protocol that maps IP addresses to physical machines or a MAC address recognized on the local area network."
   ]
  },
  {
   "cell_type": "markdown",
   "id": "73120607",
   "metadata": {},
   "source": [
    "<h2><u>Wi-Fi"
   ]
  },
  {
   "cell_type": "markdown",
   "id": "a8275626",
   "metadata": {},
   "source": [
    "This section of the course also introduced various wireless security protocols, including WEP, WPA, WPA2, and WPA3. WPA3 encrypts traffic with the Advanced Encryption Standard (AES) cipher as it travels from your device to the wireless access point. WPA2 and WPA3 offer two modes: personal and enterprise. Personal mode is best suited for home networks while enterprise mode is generally utilized for business networks and applications."
   ]
  },
  {
   "cell_type": "markdown",
   "id": "f9dee16b",
   "metadata": {},
   "source": [
    "<h2><u>Network security tools and practices"
   ]
  },
  {
   "cell_type": "markdown",
   "id": "0313aa77",
   "metadata": {},
   "source": [
    "<h3><u> Firewalls"
   ]
  },
  {
   "cell_type": "markdown",
   "id": "901edeca",
   "metadata": {},
   "source": [
    "There are two main categories of firewalls.\n",
    "\n",
    "<li><b>Stateless</b>: A class of firewall that operates based on predefined rules and does not keep track of information from data packets\n",
    "<p>\n",
    "<li><b>Stateful</b>: A class of firewall that keeps track of information passing through it and proactively filters out threats. Unlike stateless firewalls, which require rules to be configured in two directions, a stateful firewall only requires a rule in one direction. This is because it uses a \"state table\" to track connections, so it can match return traffic to an existing session \n",
    "\n",
    "Next generation firewalls (NGFWs) are the most technologically advanced firewall protection. They exceed the security offered by stateful firewalls because they include deep packet inspection (a kind of packet sniffing that examines data packets and takes actions if threats exist) and intrusion prevention features that detect security threats and notify firewall administrators. NGFWs can inspect traffic at the application layer of the TCP/IP model and are typically application aware. Unlike traditional firewalls that block traffic based on IP address and ports, NGFWs rules can be configured to block or allow traffic based on the application. Some NGFWs have additional features like Malware Sandboxing, Network Anti-Virus, and URL and DNS Filtering.  "
   ]
  },
  {
   "cell_type": "markdown",
   "id": "f67d93f6",
   "metadata": {},
   "source": [
    "<h3><u>Proxy servers "
   ]
  },
  {
   "cell_type": "markdown",
   "id": "7f28fe44",
   "metadata": {},
   "source": [
    "A proxy server is another way to add security to your private network. Proxy servers utilize network address translation (NAT) to serve as a barrier between clients on the network and external threats. Forward proxies handle queries from internal clients when they access resources external to the network. Reverse proxies function opposite of forward proxies; they handle requests from external systems to services on the internal network. Some proxy servers can also be configured with rules, like a firewall.  For example, you can create filters to block websites identified as containing malware."
   ]
  },
  {
   "cell_type": "markdown",
   "id": "4d538d54",
   "metadata": {},
   "source": [
    "<h3><u>Virtual Private Networks (VPN)"
   ]
  },
  {
   "cell_type": "markdown",
   "id": "48cbbfa5",
   "metadata": {},
   "source": [
    "A VPN is a service that encrypts data in transit and disguises your IP address. VPNs use a process called encapsulation. Encapsulation wraps your unencrypted data in an encrypted data packet, which allows your data to be sent across the public network while remaining anonymous. Enterprises and other organizations use VPNs to help protect communications from users’ devices to corporate resources. Some of these resources include servers or virtual machines that host business applications. Individuals also use VPNs to increase personal privacy. VPNs protect user privacy by concealing personal information, including IP addresses, from external servers. A reputable VPN also minimizes its own access to user internet activity by using strong encryption and other security measures. Organizations are increasingly using a combination of VPN and SD-WAN capabilities to secure their networks. A software-defined wide area network (SD-WAN) is a virtual WAN service that allows organizations to securely connect users to applications across multiple locations and over large geographical distances."
   ]
  }
 ],
 "metadata": {
  "language_info": {
   "name": "python"
  }
 },
 "nbformat": 4,
 "nbformat_minor": 5
}
