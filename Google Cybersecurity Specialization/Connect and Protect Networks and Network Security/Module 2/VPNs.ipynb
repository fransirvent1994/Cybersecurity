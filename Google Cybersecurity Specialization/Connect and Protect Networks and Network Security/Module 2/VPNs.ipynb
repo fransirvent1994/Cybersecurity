{
 "cells": [
  {
   "cell_type": "markdown",
   "id": "a857a1eb",
   "metadata": {},
   "source": [
    "<h1><b><u>Virtual Private Networks (VPN)"
   ]
  },
  {
   "cell_type": "markdown",
   "id": "5d73d491",
   "metadata": {},
   "source": [
    "VPN is a network security service that changes your public IP address and hides your virtual location so that you can keep your data private when you are using a publick network like the internet."
   ]
  },
  {
   "cell_type": "markdown",
   "id": "7bdc2686",
   "metadata": {},
   "source": [
    "<h2><b><u>Encapsulation"
   ]
  },
  {
   "cell_type": "markdown",
   "id": "ec03d4fa",
   "metadata": {},
   "source": [
    "Is a process performed by a VPN service that protects your data by wrapping sensitive data in other data packets."
   ]
  }
 ],
 "metadata": {
  "language_info": {
   "name": "python"
  }
 },
 "nbformat": 4,
 "nbformat_minor": 5
}
