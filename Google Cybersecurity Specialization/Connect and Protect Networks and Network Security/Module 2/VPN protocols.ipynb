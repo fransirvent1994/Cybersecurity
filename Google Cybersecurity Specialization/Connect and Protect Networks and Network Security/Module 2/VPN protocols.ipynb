{
 "cells": [
  {
   "cell_type": "markdown",
   "id": "642f0b4a",
   "metadata": {},
   "source": [
    "<h1><u>VPN protocols: Wireguard and IPSec"
   ]
  },
  {
   "cell_type": "markdown",
   "id": "e66e8b8a",
   "metadata": {},
   "source": [
    "A VPN, or virtual private network, is a network security service that changes your public IP address and hides your virtual location so that you can keep your data private when you’re using a public network like the internet. VPNs provide a server that acts as a gateway between a computer and the internet. This server creates a path similar to a virtual tunnel that hides the computer’s IP address and encrypts the data in transit to the internet. The main purpose of a VPN is to create a secure connection between a computer and a network. Additionally, a VPN allows trusted connections to be established on non-trusted networks. VPN protocols determine how the secure network tunnel is formed. Different VPN providers provide different VPN protocols."
   ]
  },
  {
   "cell_type": "markdown",
   "id": "442db101",
   "metadata": {},
   "source": [
    "<h2><u>Remote access and site-to-site VPNs\n"
   ]
  },
  {
   "cell_type": "markdown",
   "id": "54f03491",
   "metadata": {},
   "source": [
    "Individual users use remote access VPNs to establish a connection between a personal device and a VPN server. Remote access VPNs encrypt data sent or received through a personal device. The connection between the user and the remote access VPN is established through the internet.\n",
    "\n",
    "Enterprises use site-to-site VPNs largely to extend their network to other networks and locations. This is particularly useful for organizations that have many offices across the globe. IPSec is commonly used in site-to-site VPNs to create an encrypted tunnel between the primary network and the remote network. One disadvantage of site-to-site VPNs is how complex they can be to configure and manage compared to remote VPNs.\n",
    "\n"
   ]
  },
  {
   "cell_type": "markdown",
   "id": "f3f51d03",
   "metadata": {},
   "source": [
    "<h2><u>WireGuard VPN vs. IPSec VPN\n"
   ]
  },
  {
   "cell_type": "markdown",
   "id": "3b5ab9e0",
   "metadata": {},
   "source": [
    "WireGuard and IPSec are two different VPN protocols used to encrypt traffic over a secure network tunnel. The majority of VPN providers offer a variety of options for VPN protocols, such as WireGuard or IPSec. Ultimately, choosing between IPSec and WireGuard depends on many factors, including connection speeds, compatibility with existing network infrastructure, and business or individual needs."
   ]
  },
  {
   "cell_type": "markdown",
   "id": "80c22b4a",
   "metadata": {},
   "source": [
    "<h3><u>WireGuard VPN"
   ]
  },
  {
   "cell_type": "markdown",
   "id": "5d6aa94a",
   "metadata": {},
   "source": [
    "WireGuard is a high-speed VPN protocol, with advanced encryption, to protect users when they are accessing the internet. It’s designed to be simple to set up and maintain. WireGuard can be used for both site-to-site connection and client-server connections. WireGuard is relatively newer than IPSec, and is used by many people due to the fact that its download speed is enhanced by using fewer lines of code. WireGuard is also open source, which makes it easier for users to deploy and debug. This protocol is useful for processes that require faster download speeds, such as streaming video content or downloading large files."
   ]
  },
  {
   "cell_type": "markdown",
   "id": "adcde1ff",
   "metadata": {},
   "source": [
    "<h3><u>IPSec VPN"
   ]
  },
  {
   "cell_type": "markdown",
   "id": "b49bed35",
   "metadata": {},
   "source": [
    "IPSec is another VPN protocol that may be used to set up VPNs. Most VPN providers use IPSec to encrypt and authenticate data packets in order to establish secure, encrypted connections. Since IPSec is one of the earlier VPN protocols, many operating systems support IPSec from VPN providers.\n",
    "\n",
    "Although IPSec and WireGuard are both VPN protocols, IPSec is older and more complex than WireGuard. Some clients may prefer IPSec due to its longer history of use, extensive security testing, and widespread adoption. However, others may prefer WireGuard because of its potential for better performance and simpler configuration."
   ]
  }
 ],
 "metadata": {
  "language_info": {
   "name": "python"
  }
 },
 "nbformat": 4,
 "nbformat_minor": 5
}
