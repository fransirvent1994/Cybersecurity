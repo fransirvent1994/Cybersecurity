{
 "cells": [
  {
   "cell_type": "markdown",
   "id": "02ec0adb",
   "metadata": {},
   "source": [
    "<h1><b><u>Firewalls and network security measures"
   ]
  },
  {
   "cell_type": "markdown",
   "id": "147adf30",
   "metadata": {},
   "source": [
    "<h2><u><b>Port filtering"
   ]
  },
  {
   "cell_type": "markdown",
   "id": "bd43fa93",
   "metadata": {},
   "source": [
    "A firewall function that blocks or allows certain port numbers to limit unwanted communication"
   ]
  },
  {
   "cell_type": "markdown",
   "id": "740140f8",
   "metadata": {},
   "source": [
    "<h2><u><b>Cloud-based firewalls"
   ]
  },
  {
   "cell_type": "markdown",
   "id": "1894b5f1",
   "metadata": {},
   "source": [
    "Software firewalls that are hosted by a cloud service provider"
   ]
  },
  {
   "cell_type": "markdown",
   "id": "db0a841e",
   "metadata": {},
   "source": [
    "<h2><u><b>Stateful"
   ]
  },
  {
   "cell_type": "markdown",
   "id": "58f6c614",
   "metadata": {},
   "source": [
    "A class of firewall that keeps tracks of information passing through it and proactively filters out threats"
   ]
  },
  {
   "cell_type": "markdown",
   "id": "53e8c559",
   "metadata": {},
   "source": [
    "<h2><u><b>Stateless"
   ]
  },
  {
   "cell_type": "markdown",
   "id": "9bcb6a33",
   "metadata": {},
   "source": [
    "A class of firewall that operates based on predefined rules and does not keep track of information from data packets."
   ]
  },
  {
   "cell_type": "markdown",
   "id": "76eaaf0e",
   "metadata": {},
   "source": [
    "<h1><b><u>Benefits of next generation firewalls (NGFWs)"
   ]
  },
  {
   "cell_type": "markdown",
   "id": "3351f941",
   "metadata": {},
   "source": [
    "<li> Deep packet inspection\n",
    "<li> Intrusion protection\n",
    "<li> Threat intelligence"
   ]
  }
 ],
 "metadata": {
  "language_info": {
   "name": "python"
  }
 },
 "nbformat": 4,
 "nbformat_minor": 5
}
