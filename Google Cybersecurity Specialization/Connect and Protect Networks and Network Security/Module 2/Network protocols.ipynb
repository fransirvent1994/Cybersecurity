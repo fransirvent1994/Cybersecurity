{
 "cells": [
  {
   "cell_type": "markdown",
   "id": "643d576f",
   "metadata": {},
   "source": [
    "# Network protocols\n",
    "\n",
    "<h3> A set of rules used by two or more devices on a network to describe the order of delivery and the structure of the data."
   ]
  },
  {
   "cell_type": "markdown",
   "id": "fd001fed",
   "metadata": {},
   "source": [
    "# Transmission Control Protocol (TCP)\n",
    "\n",
    "### An internet communications protocol that allows two devices to form a connection and stream data.\n",
    "\n",
    "TCP isn’t limited to just two devices. It established a direct connection between two endpoints, but the underlying network infrastructure can handle routing data packets across multiple devices. "
   ]
  },
  {
   "cell_type": "markdown",
   "id": "8ec80f03",
   "metadata": {},
   "source": [
    "# Address Resolution Protocol (ARP)\n",
    "\n",
    "### A network protocol used to determine the MAC address of the nest router or device on the path."
   ]
  },
  {
   "cell_type": "markdown",
   "id": "838c2ad4",
   "metadata": {},
   "source": [
    "# HyperText Transfer Protocol Secure (HTTPS)\n",
    "\n",
    "### A network protocol that provides a secure method of communication between clients and website servers."
   ]
  },
  {
   "cell_type": "markdown",
   "id": "1eb94688",
   "metadata": {},
   "source": [
    "# Domain Name System (DNS)\n",
    "### A network protocol that translates internet domain names into IP addresses"
   ]
  },
  {
   "cell_type": "markdown",
   "id": "4fa995bf",
   "metadata": {},
   "source": [
    "<h1><b><u>Common network protocols"
   ]
  },
  {
   "cell_type": "markdown",
   "id": "5d8df5b1",
   "metadata": {},
   "source": [
    "## Overview of network protocols\n",
    "\n",
    "A network protocol is a set of rules used by two or more devices on a network to describe the order of delivery and the structure of data. Network protocols serve as instructions that come with the information in the data packet. These instructions tell the receiving device what to do with the data. Protocols are like a common language that allows devices all across the world to communicate with and understand each other.\n",
    "\n",
    "Even though network protocols perform an essential function in network communication, security analysts should still understand their associated security implications. Some protocols have vulnerabilities that malicious actors exploit. For example, a nefarious actor could use the Domain Name System (DNS) protocol, which resolves web addresses to IP addresses, to divert traffic from a legitimate website to a malicious website containing malware. You’ll learn more about this topic in upcoming course materials. "
   ]
  },
  {
   "cell_type": "markdown",
   "id": "d568e747",
   "metadata": {},
   "source": [
    "# Three categories of network protocols\n",
    "\n",
    "Network protocols can be divided into three main categories: communication protocols, management protocols, and security protocols. There are dozens of different network protocols, but you don’t need to memorize all of them for an entry-level security analyst role. However, it’s important for you to know the ones listed in this reading. "
   ]
  },
  {
   "cell_type": "markdown",
   "id": "2446b3ed",
   "metadata": {},
   "source": [
    "<h2><b><u>Communication protocols</h2></b></u>\n",
    "\n",
    "Communication protocols govern the exchange of information in network transmission. They dictate how the data is transmitted between devices and the timing of the communication. They also include methods to recover data lost in transit. Here are a few of them.\n"
   ]
  },
  {
   "cell_type": "markdown",
   "id": "30cfbc12",
   "metadata": {},
   "source": [
    "<li><b><u>Transmission Control Protocol (TCP)</b></u> is an internet communication protocol that allows two devices to form a connection and stream data. TCP uses a three-way handshake process. First, the device sends a synchronize (SYN) request to a server. Then the server responds with a SYN/ACK packet to acknowledge receipt of the device's request. Once the server receives the final ACK packet from the device, a TCP connection is established. In the TCP/IP model, TCP occurs at the transport layer.\n",
    "\n",
    "<li><b><u>User Datagram Protocol (UDP)</b></u> is a connectionless protocol that does not establish a connection between devices before a transmission. This makes it less reliable than TCP. But it also means that it works well for transmissions that need to get to their destination quickly. For example, one use of UDP is for sending DNS requests to local DNS servers. In the TCP/IP model, UDP occurs at the transport layer.\n",
    "\n",
    "<li><b><u>Hypertext Transfer Protocol (HTTP)</b></u> is an application layer protocol that provides a method of communication between clients and website servers. HTTP uses port 80. HTTP is considered insecure, so it is being replaced on most websites by a secure version, called HTTPS that uses encryption from SSL/TLS for communication. However, there are still many websites that use the insecure HTTP protocol. In the TCP/IP model, HTTP occurs at the application layer.\n",
    "\n",
    "<li><b><u>Domain Name System (DNS)</b></u> is a protocol that translates internet domain names into IP addresses. When a client computer wishes to access a website domain using their internet browser, a query is sent to a dedicated DNS server. The DNS server then looks up the IP address that corresponds to the website domain. DNS normally uses UDP on port 53. However, if the DNS reply to a request is large, it will switch to using the TCP protocol. In the TCP/IP model, DNS occurs at the application layer.\n",
    "\n"
   ]
  },
  {
   "cell_type": "markdown",
   "id": "f009f5ca",
   "metadata": {},
   "source": [
    "<h2><b><u>Management Protocols</h2></b></u>\n",
    "\n",
    "The next category of network protocols is management protocols. Management protocols are used for monitoring and managing activity on a network. They include protocols for error reporting and optimizing performance on the network.\n",
    "\n",
    "<li><b><u>Simple Network Management Protocol (SNMP)</b></u>is a network protocol used for monitoring and managing devices on a network. SNMP can reset a password on a network device or change its baseline configuration. It can also send requests to network devices for a report on how much of the network’s bandwidth is being used up. In the TCP/IP model, SNMP occurs at the application layer.\n",
    "\n",
    "\n",
    "<li><b><u>Internet Control Message Protocol (ICMP)</b></u> is an internet protocol used by devices to tell each other about data transmission errors across the network. ICMP is used by a receiving device to send a report to the sending device about the data transmission. ICMP is commonly used as a quick way to troubleshoot network connectivity and latency by issuing the “ping” command on a Linux operating system. In the TCP/IP model, ICMP occurs at the internet layer."
   ]
  },
  {
   "cell_type": "markdown",
   "id": "98e44f1a",
   "metadata": {},
   "source": [
    "<h2><b><u>Security Protocols</h2></b></u>\n",
    "\n",
    "Security protocols are network protocols that ensure that data is sent and received securely across a network. Security protocols use encryption algorithms to protect data in transit. Below are some common security protocols."
   ]
  },
  {
   "cell_type": "markdown",
   "id": "63cf2d74",
   "metadata": {},
   "source": [
    "<li><b><u>Hypertext Transfer Protocol Secure (HTTPS)</b></u>is a network protocol that provides a secure method of communication between clients and website servers. HTTPS is a secure version of HTTP that uses secure sockets layer/transport layer security (SSL/TLS) encryption on all transmissions so that malicious actors cannot read the information contained. HTTPS uses port 443. In the TCP/IP model, HTTPS occurs at the application layer.\n",
    "<li><b><u>Secure File Transfer Protocol (SFTP)</b></u>is a secure protocol used to transfer files from one device to another over a network. SFTP uses secure shell (SSH), typically through TCP port 22. SSH uses Advanced Encryption Standard (AES) and other types of encryption to ensure that unintended recipients cannot intercept the transmissions. In the TCP/IP model, SFTP occurs at the application layer. SFTP is used often with cloud storage. Every time a user uploads or downloads a file from cloud storage, the file is transferred using the SFTP protocol."
   ]
  },
  {
   "cell_type": "markdown",
   "id": "0cb4df7b",
   "metadata": {},
   "source": [
    "Note: The encryption protocols mentioned do not conceal the source or destination IP address of network traffic. This means a malicious actor can still learn some basic information about the network traffic if they intercept it. "
   ]
  }
 ],
 "metadata": {
  "language_info": {
   "name": "python"
  }
 },
 "nbformat": 4,
 "nbformat_minor": 5
}
