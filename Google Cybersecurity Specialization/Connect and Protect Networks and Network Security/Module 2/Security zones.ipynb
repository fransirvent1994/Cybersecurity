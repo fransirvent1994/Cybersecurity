{
 "cells": [
  {
   "cell_type": "markdown",
   "id": "96a34595",
   "metadata": {},
   "source": [
    "<h1>Security zones"
   ]
  },
  {
   "cell_type": "markdown",
   "id": "2b946820",
   "metadata": {},
   "source": [
    "Security zones are a segment of a network that protects the internal network from the internet"
   ]
  },
  {
   "cell_type": "markdown",
   "id": "00678e68",
   "metadata": {},
   "source": [
    "<h2> Network segmentation"
   ]
  },
  {
   "cell_type": "markdown",
   "id": "594a8c89",
   "metadata": {},
   "source": [
    "A security technique that divides the network into segments."
   ]
  },
  {
   "cell_type": "markdown",
   "id": "fbef5549",
   "metadata": {},
   "source": [
    "<h2> 2 types of security zones"
   ]
  },
  {
   "cell_type": "markdown",
   "id": "9f55e850",
   "metadata": {},
   "source": [
    "<h3><li> Uncontrolled zone"
   ]
  },
  {
   "cell_type": "markdown",
   "id": "37526ef1",
   "metadata": {},
   "source": [
    "Any network outside of the organization´s control"
   ]
  },
  {
   "cell_type": "markdown",
   "id": "a4fed0d4",
   "metadata": {},
   "source": [
    "<h3><li> Controlled zone"
   ]
  },
  {
   "cell_type": "markdown",
   "id": "60f8a097",
   "metadata": {},
   "source": [
    "A subnet that protects the internal network from the uncontrolled zone"
   ]
  },
  {
   "cell_type": "markdown",
   "id": "615e5387",
   "metadata": {},
   "source": [
    "<h2>Areas in the controlled zone"
   ]
  },
  {
   "cell_type": "markdown",
   "id": "64101738",
   "metadata": {},
   "source": [
    "<li>Demilitarized zone (DMZ)\n",
    "<li> Internal network\n",
    "<li> Restricted zone"
   ]
  },
  {
   "cell_type": "markdown",
   "id": "1e03125f",
   "metadata": {},
   "source": [
    "<h3> DMZ has 2 firewalls: 1 which protects from the internet and another which protects the internal network, which has another firewall which protects the restricted zone"
   ]
  }
 ],
 "metadata": {
  "language_info": {
   "name": "python"
  }
 },
 "nbformat": 4,
 "nbformat_minor": 5
}
