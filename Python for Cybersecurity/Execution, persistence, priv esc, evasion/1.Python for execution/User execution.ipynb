{
 "cells": [
  {
   "cell_type": "markdown",
   "id": "fcb3ac1f",
   "metadata": {},
   "source": [
    "<h1>\n",
    "    <b>\n",
    "        <u>\n",
    "            MITRE ATT&CK Execution"
   ]
  }
 ],
 "metadata": {
  "language_info": {
   "name": "python"
  }
 },
 "nbformat": 4,
 "nbformat_minor": 5
}
