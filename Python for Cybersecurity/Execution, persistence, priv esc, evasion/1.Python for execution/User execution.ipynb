{
 "cells": [
  {
   "cell_type": "markdown",
   "id": "fcb3ac1f",
   "metadata": {},
   "source": [
    "<h1>\n",
    "    <b>\n",
    "        <u>\n",
    "            MITRE ATT&CK Execution"
   ]
  },
  {
   "cell_type": "markdown",
   "id": "8a09594d",
   "metadata": {},
   "source": [
    "- Most attacks require some form of malicious code execution on a target system:\n",
    "    - Malware/malicious scripts\n",
    "    - Malicious commands used in injection\n",
    "    - Remote terminal commands"
   ]
  },
  {
   "cell_type": "markdown",
   "id": "618513e1",
   "metadata": {},
   "source": [
    "- The execution Tactic of MITRE ATT&CK focuses on achieving initial execution\n",
    "    - This may be the only stage of execution\n",
    "    - May only be designed to run a malware dropper or downloader"
   ]
  }
 ],
 "metadata": {
  "language_info": {
   "name": "python"
  }
 },
 "nbformat": 4,
 "nbformat_minor": 5
}
