{
 "cells": [
  {
   "cell_type": "markdown",
   "id": "0c2ba9c4",
   "metadata": {},
   "source": [
    "<h1>\n",
    "    <b>\n",
    "        <u>\n",
    "            Introduction to open technical databases"
   ]
  },
  {
   "cell_type": "markdown",
   "id": "0274f1d3",
   "metadata": {},
   "source": [
    "Open Technical Databases\n",
    "\n",
    "- Open-source intelligence (OSINT) is a trove of useful data regarding an organization and is systems.\n",
    "\n",
    "Some examples of these datasets include:\n",
    "- WHOIS: WHOIS records may include data about owners owebsites, system administrators, etc.\n",
    "- DNS: DNS maps domain names to IP addresses\n",
    "- CDNs: CDNs store cached content for an organization´s websites"
   ]
  }
 ],
 "metadata": {
  "language_info": {
   "name": "python"
  }
 },
 "nbformat": 4,
 "nbformat_minor": 5
}
