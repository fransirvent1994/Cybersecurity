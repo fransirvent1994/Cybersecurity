{
 "cells": [
  {
   "cell_type": "markdown",
   "id": "32ee9791",
   "metadata": {},
   "source": [
    "<h1>\n",
    "    <b>\n",
    "        <u>\n",
    "            What is MITRE Att&ck?"
   ]
  },
  {
   "cell_type": "markdown",
   "id": "e4eadf30",
   "metadata": {},
   "source": [
    "- MITRE Att&ck is a tool developed by the MITRE Corporation to improve Cybersecurity understanding\n",
    "\n",
    "- It maps different attacker techniques and procedures to the cyberattack life cycle and an adversary´s goals"
   ]
  },
  {
   "cell_type": "markdown",
   "id": "904cafe7",
   "metadata": {},
   "source": [
    "<h1>\n",
    "    <b>\n",
    "        <u>\n",
    "            What is MITRE Shield?"
   ]
  },
  {
   "cell_type": "markdown",
   "id": "53f77521",
   "metadata": {},
   "source": [
    "- MITRE Shield was developed by MITRE to promote active defense\n",
    "\n",
    "- It identifies different goals that an active defender may have and outlines methods for achieving those goals"
   ]
  },
  {
   "cell_type": "markdown",
   "id": "e9a98a79",
   "metadata": {},
   "source": [
    "<h2>Important terms"
   ]
  },
  {
   "cell_type": "markdown",
   "id": "04f9ea8d",
   "metadata": {},
   "source": [
    "Both tools have several unique terms:\n",
    "\n",
    "- Tactic: The tactical goal at aparticular stage of a cyberattack or a goal in active defense\n",
    "\n",
    "- Technique: A mechanism by which an attacker can achieve the goal outlined in a particular Tactic\n",
    "- Sub-Techinque: A method for carrying out a particular Techinque\n",
    "\n",
    "-Procedure: A specific implementation of a particular Techinque or Sub-Techinque"
   ]
  },
  {
   "cell_type": "markdown",
   "id": "0536d152",
   "metadata": {},
   "source": [
    "<h2> MITRe Att&ck Tactics </h2>\n",
    "\n",
    "1. PRE-Att&ck: Reconnaissance and Resource Development\n",
    "2. Initial Access\n",
    "3. Execution\n",
    "4. Persistence\n",
    "5. Privilege Escalation\n",
    "6. Defense Evasion\n",
    "7. Credential Accesss\n",
    "8. Discovery\n",
    "9. Lateral Movement\n",
    "10. Collection\n",
    "11. Command and Control\n",
    "12. exfiltration\n",
    "13. Impact "
   ]
  },
  {
   "cell_type": "markdown",
   "id": "d122c37e",
   "metadata": {},
   "source": [
    "<h2> MITRe Shield Tactics </h2>\n",
    "\n",
    "1. Channel\n",
    "2. Collect\n",
    "3. Contain\n",
    "4. Detect\n",
    "5. Disrupt\n",
    "6. Facilitate\n",
    "7. Legitimize\n",
    "8. Test\n"
   ]
  },
  {
   "cell_type": "markdown",
   "id": "f09e3a7b",
   "metadata": {},
   "source": [
    "<h1>\n",
    "    <b>\n",
    "        <u>\n",
    "            Introduction to Pre-Att&ck"
   ]
  },
  {
   "cell_type": "markdown",
   "id": "f9b99809",
   "metadata": {},
   "source": [
    "<li> MITRE Pre-Att&ck matrix used to be its own standalone matrix\n",
    "        <ul> \n",
    "            - Contained a collection of Tactics and Techniques\n",
    "        <p>\n",
    "            - Mapped to the Recon and Weaponize stages of the cyber kill chain\n",
    "</ul>\n",
    "\n",
    "<li> Now, Pre-Att&ck is the first two stages of the MITRE Att&ck for the Enterprise framework\n",
    "    <ul> \n",
    "        - Reconnaissance\n",
    "    <p> \n",
    "        - Resource Development"
   ]
  },
  {
   "cell_type": "markdown",
   "id": "29fb95da",
   "metadata": {},
   "source": [
    "<h2>\n",
    "    <u>\n",
    "        <b>\n",
    "            Pre-Att&ck: Reconnaissance"
   ]
  },
  {
   "cell_type": "markdown",
   "id": "37d2e147",
   "metadata": {},
   "source": [
    "- The first stage of Pre-Att&ck focuses on gathering target information from a variety of different sources:\n",
    "\n",
    "- Active Scanning\n",
    "- Gather Victim Host Information\n",
    "- Gather Victim Identity Information\n",
    "- Gather Victim Network Information\n",
    "- Gather Victim Org Information\n",
    "- Phishing for information\n",
    "- Search Closed Sources\n",
    "- Search Open Technical Databases\n",
    "- Search Open Websites/Domains\n",
    "- Search Victim-Owned Websites"
   ]
  },
  {
   "cell_type": "markdown",
   "id": "55df7f23",
   "metadata": {},
   "source": [
    "- The second stage of Pre-Att&ck involves the attacker developing or acquiring the tools needed to perform their attack:\n",
    "- Acquire infrastructure\n",
    "- Compromise Accounts\n",
    "- Compromise Infrastructure\n",
    "- Develop Capabilities\n",
    "- Estabblish Accounts\n",
    "- Obtain Capabilities"
   ]
  },
  {
   "cell_type": "markdown",
   "id": "ce102e47",
   "metadata": {},
   "source": [
    "<h2>\n",
    "    <b>\n",
    "        <u>\n",
    "            Python for Pre-Att&ck"
   ]
  },
  {
   "cell_type": "markdown",
   "id": "c66dd1b4",
   "metadata": {},
   "source": [
    "1. The Resource Development Tactic of Pre-Att&ck largely occurs on the attacker´s infrastructure.\n",
    "- No interaction with target systems for defenders to detect\n",
    "- Depends heavily on the attacker´s goals and resources\n",
    "\n",
    "2. This course explores two Techinques from the Reconnaissance Tactic of Pre-Att&ck:\n",
    "- Active Scanning: Network Scanning\n",
    "- Search Open Technical Databases: DNS Exploration"
   ]
  }
 ],
 "metadata": {
  "language_info": {
   "name": "python"
  }
 },
 "nbformat": 4,
 "nbformat_minor": 5
}
