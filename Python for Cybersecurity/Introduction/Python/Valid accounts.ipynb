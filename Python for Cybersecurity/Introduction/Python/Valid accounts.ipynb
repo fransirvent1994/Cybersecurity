{
 "cells": [
  {
   "cell_type": "markdown",
   "id": "ef4e3763",
   "metadata": {},
   "source": [
    "<h1>\n",
    "    <b>\n",
    "        <u>\n",
    "            Valid accounts"
   ]
  },
  {
   "cell_type": "markdown",
   "id": "ae4fd711",
   "metadata": {},
   "source": [
    "- Valid accounts are a necessary weakness in an organization´s defenses\n",
    "    - Users need access to networks, systems, applications, etc.\n",
    "\n",
    "- Attackers commonly target these accounts in their attack\n",
    "    - User passwords are relatively easy to compromise\n",
    "    - Authenticating as a legitimate user makes detection more difficult"
   ]
  }
 ],
 "metadata": {
  "language_info": {
   "name": "python"
  }
 },
 "nbformat": 4,
 "nbformat_minor": 5
}
