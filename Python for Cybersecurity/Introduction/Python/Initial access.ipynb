{
 "cells": [
  {
   "cell_type": "markdown",
   "id": "6ce544d8",
   "metadata": {},
   "source": [
    "<h1>\n",
    "    <b>\n",
    "        <u>\n",
    "            Initial access"
   ]
  },
  {
   "cell_type": "markdown",
   "id": "640aacaa",
   "metadata": {},
   "source": [
    "- Initial access is where an attack transitions from planning to execution:\n",
    "    - Attacker exploits a vulnerability dicovered during PRE-ATT&CK\n",
    "    - Potentially, this is the first time the attacker actually interacts with the target network\n",
    "\n",
    "- The lines between the MITRE ATT&CK stages can be blurred at this point\n",
    "    - Performing an SQL Injection attack for a vulnerability can cover reconnaissance, initial access and later Tactics."
   ]
  },
  {
   "cell_type": "markdown",
   "id": "1da4ef2c",
   "metadata": {},
   "source": [
    "- The MITRE ATT&CK framework outilines a number of different Techinques by which an attacker can achieve initial accesss:\n",
    "\n",
    "- Drive-by Compromise\n",
    "- Exploit Public-Facing Application\n",
    "- External Remote Services\n",
    "- Hardware Additions\n",
    "- Phishing\n",
    "- Replication Through Removable Media\n",
    "- Supply Chain Compromise\n",
    "- Trusted Relationship\n",
    "- Valid Accounts"
   ]
  },
  {
   "cell_type": "markdown",
   "id": "21684cc2",
   "metadata": {},
   "source": [
    "Python for initial access\n",
    "\n",
    "- Python code can be applied to several of the inital access Techniques and Sub-Techniques\n",
    "    - Many attack vectors can be automated at some level"
   ]
  }
 ],
 "metadata": {
  "language_info": {
   "name": "python"
  }
 },
 "nbformat": 4,
 "nbformat_minor": 5
}
