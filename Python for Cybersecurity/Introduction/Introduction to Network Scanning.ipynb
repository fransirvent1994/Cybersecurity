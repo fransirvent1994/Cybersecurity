{
 "cells": [
  {
   "cell_type": "markdown",
   "id": "c04ffa85",
   "metadata": {},
   "source": [
    "<h1>\n",
    "    <b>\n",
    "        <u>\n",
    "            Introduction to Network Scanning"
   ]
  },
  {
   "cell_type": "markdown",
   "id": "38076cd5",
   "metadata": {},
   "source": [
    "Network scanning is one method of learning a target network architecture\n",
    "\n",
    "- Port scanning\n",
    "- Banner collection\n",
    "- Vulnerability scanning\n",
    "\n",
    "Active scanning:\n",
    "- Scanning IP blocks\n",
    "- Vulnerability scanning"
   ]
  }
 ],
 "metadata": {
  "language_info": {
   "name": "python"
  }
 },
 "nbformat": 4,
 "nbformat_minor": 5
}
